{
 "cells": [
  {
   "cell_type": "markdown",
   "source": [
    "# Práctica 1. Resolución de problemas con búsqueda \n",
    "## Inteligencia Artificial I    2021/2022"
   ],
   "metadata": {}
  },
  {
   "cell_type": "markdown",
   "source": [
    "La práctica está organizada en 4 partes:\n",
    "* Parte I: se muestra a través de ejemplos resueltos cómo se representan algunos problemas clásicos como el de las jarras, el problema de los misioneros o el problema del ocho puzzle. \n",
    "* Parte II: se muestra el uso de los algoritmos de búsqueda exhaustiva (ciega y heurística) vistos en clase. \n",
    "* Parte III: aprenderemos a medir las propiedades de los algoritmos.\n",
    "* Parte IV: se os dan 2 problemas algo más complejos para resolver al menos 1.\n",
    "\n",
    "En el notebook encontraras claramente identificados los lugares en los que debes incluir código o comentarios.  \n",
    "Cuando termines los ejercicios entrega **este archivo en el campus**.  \n",
    "Debes incluir al comienzo una celda de markdown con el nombre completo de los miembros del grupo y número de grupo.\n",
    "\n",
    "Los comentarios razonados de los ejercicios son la parte más importante de esta práctica. \n",
    "\n",
    "**Fecha de entrega de la práctica completa: 18 de octubre** "
   ],
   "metadata": {}
  },
  {
   "cell_type": "markdown",
   "source": [
    "## Parte I: Representación de problemas de espacios de estados."
   ],
   "metadata": {}
  },
  {
   "cell_type": "markdown",
   "source": [
    "Como hemos visto en clase la representación de un problema de espacio de estados consiste en:\n",
    "* Representar estados y acciones mediante una estructura de datos.\n",
    "* Definir: estado_inicial, es_estado_final(_), acciones(_), aplica(_,_) y\n",
    "  coste_de_aplicar_accion, si el problema tiene coste.\n",
    "\n",
    " La siguiente clase Problem representa este esquema general de cualquier\n",
    " problema de espacio de estados. Un problema concreto será una subclase de\n",
    " Problema, y requerirá implementar acciones, aplica y eventualmente __init__, actions,\n",
    " goal_test. La función coste_de_aplicar_accion la hemos incluido nosotros\n",
    " \n",
    "El primer paso es importar el código que necesitamos de search.py de AIMA y usar la clase Problem. "
   ],
   "metadata": {}
  },
  {
   "cell_type": "code",
   "execution_count": 2,
   "source": [
    "from search import Problem"
   ],
   "outputs": [],
   "metadata": {}
  },
  {
   "cell_type": "code",
   "execution_count": 12,
   "source": [
    "## Copiamos aquí la definición de la clase Problem para facilitar la explicación.\r\n",
    "\r\n",
    "class Problem(object):\r\n",
    "\r\n",
    "    \"\"\"The abstract class for a formal problem. You should subclass\r\n",
    "    this and implement the methods actions and result, and possibly\r\n",
    "    __init__, goal_test, and path_cost. Then you will create instances\r\n",
    "    of your subclass and solve them with the various search functions.\"\"\"\r\n",
    "\r\n",
    "    def __init__(self, initial, goal=None):\r\n",
    "        \"\"\"The constructor specifies the initial state, and possibly a goal\r\n",
    "        state, if there is a unique goal. Your subclass's constructor can add\r\n",
    "        other arguments.\"\"\"\r\n",
    "        self.initial = initial\r\n",
    "        self.goal = goal\r\n",
    "\r\n",
    "    def actions(self, state):\r\n",
    "        \"\"\"Return the actions that can be executed in the given\r\n",
    "        state. The result would typically be a list, but if there are\r\n",
    "        many actions, consider yielding them one at a time in an\r\n",
    "        iterator, rather than building them all at once.\"\"\"\r\n",
    "        raise NotImplementedError\r\n",
    "\r\n",
    "    def result(self, state, action):\r\n",
    "        \"\"\"Return the state that results from executing the given\r\n",
    "        action in the given state. The action must be one of\r\n",
    "        self.actions(state).\"\"\"\r\n",
    "        raise NotImplementedError\r\n",
    "\r\n",
    "    def goal_test(self, state):\r\n",
    "        \"\"\"Return True if the state is a goal. The default method compares the\r\n",
    "        state to self.goal or checks for state in self.goal if it is a\r\n",
    "        list, as specified in the constructor. Override this method if\r\n",
    "        checking against a single self.goal is not enough.\"\"\"\r\n",
    "        if isinstance(self.goal, list):\r\n",
    "            return is_in(state, self.goal)\r\n",
    "        else:\r\n",
    "            return state == self.goal\r\n",
    "\r\n",
    "    def path_cost(self, c, state1, action, state2):\r\n",
    "        \"\"\"Return the cost of a solution path that arrives at state2 from\r\n",
    "        state1 via action, assuming cost c to get up to state1. If the problem\r\n",
    "        is such that the path doesn't matter, this function will only look at\r\n",
    "        state2.  If the path does matter, it will consider c and maybe state1\r\n",
    "        and action. The default method costs 1 for every step in the path.\"\"\"\r\n",
    "        return c + 1\r\n",
    "\r\n",
    "    def value(self, state):\r\n",
    "        \"\"\"For optimization problems, each state has a value.  Hill-climbing\r\n",
    "        and related algorithms try to maximize this value.\"\"\"\r\n",
    "        raise NotImplementedError\r\n",
    "\r\n",
    "    def coste_de_aplicar_accion(self, estado, accion):\r\n",
    "        \"\"\"Hemos incluido está función que devuelve el coste de un único operador (aplicar accion a estado). Por defecto, este\r\n",
    "        coste es 1. Reimplementar si el problema define otro coste \"\"\" \r\n",
    "        return 1"
   ],
   "outputs": [],
   "metadata": {}
  },
  {
   "cell_type": "markdown",
   "source": [
    "El algoritmo llama a actions, que devuelve una lista con todas las acciones aplicables. Se añaden a la lista frontera\r\n",
    "De la lista frontera el alg escoge una, la que va a aplicar.\r\n",
    "La acción elegida se le pasa al result junto con el estado actual"
   ],
   "metadata": {}
  },
  {
   "cell_type": "markdown",
   "source": [
    "Ahora vamos a ver un ejemplo de cómo definir un problema como subclase\n",
    "de problema. En concreto, el problema de las jarras, visto en clase que es muy sencillo. "
   ],
   "metadata": {}
  },
  {
   "cell_type": "code",
   "execution_count": null,
   "source": [
    "class Jarras(Problem):\r\n",
    "    \"\"\"Problema de las jarras:\r\n",
    "    Representaremos los estados como tuplas (x,y) de dos números enteros,\r\n",
    "    donde x es el número de litros de la jarra de 4 e y es el número de litros\r\n",
    "    de la jarra de 3\"\"\"\r\n",
    "\r\n",
    "    def __init__(self):\r\n",
    "        self.initial = (0,0)\r\n",
    "\r\n",
    "    def actions(self,estado):\r\n",
    "        jarra_de_4=estado[0]\r\n",
    "        jarra_de_3=estado[1]\r\n",
    "        accs=list()\r\n",
    "        if jarra_de_4 > 0:\r\n",
    "            accs.append(\"vaciar jarra de 4\")\r\n",
    "            if jarra_de_3 < 3:\r\n",
    "                accs.append(\"trasvasar de jarra de 4 a jarra de 3\")\r\n",
    "        if jarra_de_4 < 4:\r\n",
    "            accs.append(\"llenar jarra de 4\")\r\n",
    "            if jarra_de_3 > 0:\r\n",
    "                accs.append(\"trasvasar de jarra de 3 a jarra de 4\")\r\n",
    "        if jarra_de_3 > 0:\r\n",
    "            accs.append(\"vaciar jarra de 3\")\r\n",
    "        if jarra_de_3 < 3:\r\n",
    "            accs.append(\"llenar jarra de 3\")\r\n",
    "        return accs\r\n",
    "\r\n",
    "    def result(self,estado,accion):\r\n",
    "        j4=estado[0]\r\n",
    "        j3=estado[1]\r\n",
    "        if accion==\"llenar jarra de 4\":\r\n",
    "            return (4,j3)\r\n",
    "        elif accion==\"llenar jarra de 3\":\r\n",
    "            return (j4,3)\r\n",
    "        elif accion==\"vaciar jarra de 4\":\r\n",
    "            return (0,j3)\r\n",
    "        elif accion==\"vaciar jarra de 3\":\r\n",
    "            return (j4,0)\r\n",
    "        elif accion==\"trasvasar de jarra de 4 a jarra de 3\":\r\n",
    "            return (j4-3+j3,3) if j3+j4 >= 3 else (0,j3+j4)\r\n",
    "        else: #  \"trasvasar de jarra de 3 a jarra de 4\"\r\n",
    "            return (j3+j4,0) if j3+j4 <= 4 else (4,j3-4+j4)\r\n",
    "\r\n",
    "    def goal_test(self,estado):\r\n",
    "        return estado[0]==2\r\n"
   ],
   "outputs": [],
   "metadata": {}
  },
  {
   "cell_type": "markdown",
   "source": [
    "Vamos a probar algunos ejemplos."
   ],
   "metadata": {}
  },
  {
   "cell_type": "code",
   "execution_count": null,
   "source": [
    "p =Jarras()\r\n",
    "p.initial"
   ],
   "outputs": [],
   "metadata": {}
  },
  {
   "cell_type": "code",
   "execution_count": null,
   "source": [
    "p.actions(p.initial)"
   ],
   "outputs": [],
   "metadata": {}
  },
  {
   "cell_type": "code",
   "execution_count": null,
   "source": [
    "p.result(p.initial,\"llenar jarra de 4\")"
   ],
   "outputs": [],
   "metadata": {}
  },
  {
   "cell_type": "code",
   "execution_count": null,
   "source": [
    "p.coste_de_aplicar_accion(p.initial,\"llenar jarra de 4\")"
   ],
   "outputs": [],
   "metadata": {}
  },
  {
   "cell_type": "code",
   "execution_count": null,
   "source": [
    "p.goal_test(p.initial)"
   ],
   "outputs": [],
   "metadata": {}
  },
  {
   "cell_type": "markdown",
   "source": [
    "### Problema de los misioneros"
   ],
   "metadata": {}
  },
  {
   "cell_type": "code",
   "execution_count": null,
   "source": [
    "# Creamos la clase ProblemaMisioneros con los elementos que representarán el problema. \r\n",
    "class ProblemaMisioneros(Problem):\r\n",
    "    ''' Clase problema (formalizacion de nuestro problema) siguiendo la\r\n",
    "        estructura que aima espera que tengan los problemas.'''\r\n",
    "    def __init__(self, initial, goal=None):\r\n",
    "        '''Inicializacion de nuestro problema.'''\r\n",
    "        Problem.__init__(self, initial, goal)\r\n",
    "        # cada accion tiene un texto para identificar al operador y despues una tupla de dos elementos con la\r\n",
    "        # cantidad de misioneros y canibales que se mueven en la canoa\r\n",
    "        self._actions = [('1c', (0, 1)), ('1m', (1, 0)), ('2c', (0, 2)), ('2m', (2, 0)), ('1m1c', (1, 1))]\r\n",
    "\r\n",
    "    def actions(self, s):\r\n",
    "        '''Devuelve las acciones validas para un estado.'''\r\n",
    "        # las acciones validas para un estado son aquellas que al aplicarse\r\n",
    "        # nos dejan en otro estado valido\r\n",
    "        return [a for a in self._actions if self._is_valid(self.result(s, a))]\r\n",
    "\r\n",
    "    def _is_valid(self, s):\r\n",
    "        '''Determina si un estado es valido o no.'''\r\n",
    "        # un estado es valido si no hay mas canibales que misioneros en ninguna\r\n",
    "        # orilla, y si las cantidades estan entre 0 y 3\r\n",
    "        return (s[0] >= s[1] or s[0] == 0) and ((3 - s[0]) >= (3 - s[1]) or s[0] == 3) and (0 <= s[0] <= 3) and (0 <= s[1] <= 3)\r\n",
    "\r\n",
    "    def result(self, s, a):\r\n",
    "        '''Devuelve el estado resultante de aplicar una accion a un estado\r\n",
    "           determinado.'''\r\n",
    "        # el estado resultante tiene la canoa en el lado opuesto, y con las\r\n",
    "        # cantidades de misioneros y canibales actualizadas segun la cantidad\r\n",
    "        # que viajaron en la canoa\r\n",
    "        if s[2] == 0:\r\n",
    "            return (s[0] - a[1][0], s[1] - a[1][1], 1)\r\n",
    "        else:\r\n",
    "            return (s[0] + a[1][0], s[1] + a[1][1], 0)\r\n",
    "\r\n"
   ],
   "outputs": [],
   "metadata": {}
  },
  {
   "cell_type": "code",
   "execution_count": null,
   "source": [
    "# creamos un problema a partir de nuestra formalizacion de ProblemaMisioneros\r\n",
    "# como parametros le pasamos el estado inicial, y el estado objetivo que esperamos\r\n",
    "misioneros = ProblemaMisioneros((3, 3, 0), (0, 0, 1))\r\n",
    "\r\n",
    "# Asegurate de que entiendes la formalización del problema y haz algunas pruebas con la representación del problema de los misioneros. \r\n",
    "# En la siguiente parte vamos a usar las implementaciones de los algoritmos de búsqueda de AIMA para \r\n",
    "# resolver los problemas que hemos representado. Por ejemplo, para resolver el problema de los misioneros con \r\n",
    "# el método de busqueda en anchura la llamada sería:  breadth_first_tree_search(estado).solution()"
   ],
   "outputs": [],
   "metadata": {}
  },
  {
   "cell_type": "code",
   "execution_count": null,
   "source": [
    "misioneros.initial"
   ],
   "outputs": [],
   "metadata": {}
  },
  {
   "cell_type": "code",
   "execution_count": null,
   "source": [
    "misioneros.actions(misioneros.initial)"
   ],
   "outputs": [],
   "metadata": {}
  },
  {
   "cell_type": "markdown",
   "source": [
    "### Representación del problema del puzzle de 8"
   ],
   "metadata": {}
  },
  {
   "cell_type": "markdown",
   "source": [
    "Vamos a definir la clase Ocho_Puzzle, que implementa la representación del problema del 8-puzzle visto en clase. \n",
    "Se os proporciona una versión incompleta y tendréis que completar el código que se presenta a continuación, en los lugares marcados con interrogantes."
   ],
   "metadata": {}
  },
  {
   "cell_type": "markdown",
   "source": [
    "### 8 Puzzle \r\n",
    "\r\n",
    "Tablero 3x3 cuyo objetivo es mover la configuración de las piezas desde un estado inicial dado a un estado objetivo moviendo las fichas al espacio en blanco. \r\n",
    "\r\n",
    "ejemplo:- \r\n",
    "\r\n",
    "                  Inicial                             Goal \r\n",
    "              | 7 | 2 | 4 |                       | 1 | 2 | 3 |\r\n",
    "              | 5 | 0 | 6 |                       | 4 | 5 | 6 |\r\n",
    "              | 8 | 3 | 1 |                       | 7 | 8 | 0 |\r\n",
    "              \r\n",
    "Hay 9! configuraciones iniciales pero ojo! porque no todas tienen solución. **Tenlo en cuenta al hacer las pruebas**. "
   ],
   "metadata": {}
  },
  {
   "cell_type": "markdown",
   "source": [
    "### EJERCICIO 1. Completa la definición de los operadores en el problema del Puzle de 8. "
   ],
   "metadata": {}
  },
  {
   "cell_type": "code",
   "execution_count": 3,
   "source": [
    "class Ocho_Puzzle(Problem):\r\n",
    "    \"\"\"Problema a del 8-puzzle.  Los estados serán tuplas de nueve elementos,\r\n",
    "    permutaciones de los números del 0 al 8 (el 0 es el hueco). Representan la\r\n",
    "    disposición de las fichas en el tablero, leídas por filas de arriba a\r\n",
    "    abajo, y dentro de cada fila, de izquierda a derecha. Las cuatro\r\n",
    "    acciones del problema las representaremos mediante las cadenas:\r\n",
    "    \"Mover hueco arriba\", \"Mover hueco abajo\", \"Mover hueco izquierda\" y\r\n",
    "    \"Mover hueco derecha\", respectivamente.\"\"\"\"\"\r\n",
    "\r\n",
    "    def __init__(self, initial, goal=(1, 2, 3, 4, 5, 6, 7, 8, 0)):\r\n",
    "        \"\"\" Define goal state and initialize a problem \"\"\"\r\n",
    "        self.goal = goal\r\n",
    "        Problem.__init__(self, initial, goal)\r\n",
    "    \r\n",
    "    def actions(self,estado):\r\n",
    "        pos_hueco=estado.index(0) # busco la posicion del 0\r\n",
    "        accs=list()\r\n",
    "        if pos_hueco not in (0,1,2):\r\n",
    "            accs.append(\"Mover hueco arriba\")\r\n",
    "        if pos_hueco not in (6,7,8):\r\n",
    "            accs.append(\"Mover hueco abajo\")\r\n",
    "        if pos_hueco not in (0,3,6):\r\n",
    "            accs.append(\"Mover hueco izquierda\")\r\n",
    "        if pos_hueco not in (2,5,8):\r\n",
    "            accs.append(\"Mover hueco derecha\")\r\n",
    "        \r\n",
    "        return accs     \r\n",
    "\r\n",
    "    def result(self,estado,accion):\r\n",
    "        pos_hueco = estado.index(0)\r\n",
    "        l = list(estado)\r\n",
    "        if accion == \"Mover hueco arriba\":\r\n",
    "            l[pos_hueco] = l[pos_hueco-3]\r\n",
    "            l[pos_hueco-3] = 0\r\n",
    "        if accion == \"Mover hueco abajo\":\r\n",
    "            l[pos_hueco] = l[pos_hueco+3]\r\n",
    "            l[pos_hueco+3] = 0\r\n",
    "        if accion == \"Mover hueco izquierda\":\r\n",
    "            l[pos_hueco] = l[pos_hueco-1]\r\n",
    "            l[pos_hueco-1] = 0\r\n",
    "        if accion == \"Mover hueco derecha\":\r\n",
    "            l[pos_hueco] = l[pos_hueco+1]\r\n",
    "            l[pos_hueco+1] = 0\r\n",
    "        \r\n",
    "        return tuple(l)\r\n",
    "    \r\n",
    "    def h(self, node):\r\n",
    "        \"\"\" Return the heuristic value for a given state. \"\"\"\r\n",
    "        return 1 "
   ],
   "outputs": [],
   "metadata": {}
  },
  {
   "cell_type": "markdown",
   "source": [
    "#### Una vez completada la definición de la clase podrás probar los siguientes ejemplos."
   ],
   "metadata": {}
  },
  {
   "cell_type": "code",
   "execution_count": 4,
   "source": [
    "p8 = Ocho_Puzzle((2, 8, 3, 1, 6, 4, 7, 0, 5))\r\n",
    "p8.initial"
   ],
   "outputs": [
    {
     "output_type": "execute_result",
     "data": {
      "text/plain": [
       "(2, 8, 3, 1, 6, 4, 7, 0, 5)"
      ]
     },
     "metadata": {},
     "execution_count": 4
    }
   ],
   "metadata": {}
  },
  {
   "cell_type": "code",
   "execution_count": 18,
   "source": [
    "p8.actions(p8.initial)\r\n",
    "#Respuesta: ['Mover hueco arriba', 'Mover hueco izquierda', 'Mover hueco derecha']"
   ],
   "outputs": [
    {
     "output_type": "execute_result",
     "data": {
      "text/plain": [
       "['Mover hueco arriba', 'Mover hueco izquierda', 'Mover hueco derecha']"
      ]
     },
     "metadata": {},
     "execution_count": 18
    }
   ],
   "metadata": {}
  },
  {
   "cell_type": "code",
   "execution_count": 19,
   "source": [
    "p8.result(p8.initial,\"Mover hueco arriba\")"
   ],
   "outputs": [
    {
     "output_type": "execute_result",
     "data": {
      "text/plain": [
       "(2, 8, 3, 1, 0, 4, 7, 6, 5)"
      ]
     },
     "metadata": {},
     "execution_count": 19
    }
   ],
   "metadata": {}
  },
  {
   "cell_type": "code",
   "execution_count": null,
   "source": [
    "p8.result(p8.initial,\"Mover hueco abajo\")"
   ],
   "outputs": [],
   "metadata": {}
  },
  {
   "cell_type": "code",
   "execution_count": 21,
   "source": [
    "p8.result(p8.result(p8.initial,\"Mover hueco arriba\"),\"Mover hueco abajo\")"
   ],
   "outputs": [
    {
     "output_type": "execute_result",
     "data": {
      "text/plain": [
       "(2, 8, 3, 1, 6, 4, 7, 0, 5)"
      ]
     },
     "metadata": {},
     "execution_count": 21
    }
   ],
   "metadata": {}
  },
  {
   "cell_type": "code",
   "execution_count": 22,
   "source": [
    "p8.result(p8.initial,\"Mover hueco derecha\")"
   ],
   "outputs": [
    {
     "output_type": "execute_result",
     "data": {
      "text/plain": [
       "(2, 8, 3, 1, 6, 4, 7, 5, 0)"
      ]
     },
     "metadata": {},
     "execution_count": 22
    }
   ],
   "metadata": {}
  },
  {
   "cell_type": "code",
   "execution_count": 23,
   "source": [
    "p8.coste_de_aplicar_accion(p8.initial,\"Mover hueco abajo\")"
   ],
   "outputs": [
    {
     "output_type": "execute_result",
     "data": {
      "text/plain": [
       "1"
      ]
     },
     "metadata": {},
     "execution_count": 23
    }
   ],
   "metadata": {}
  },
  {
   "cell_type": "markdown",
   "source": [
    "### EJERCICIO 2.  Usando la representación anterior representa el problema del puzle de 16 piezas."
   ],
   "metadata": {}
  },
  {
   "cell_type": "code",
   "execution_count": 5,
   "source": [
    "class Quince_Puzzle(Problem):\r\n",
    "\t## Completa la definición del problema\r\n",
    "\tdef __init__(self, initial, goal=(1, 2, 3, 4, 5, 6, 7, 8, 9, 10, 11, 12, 13, 14, 15, 0)):\r\n",
    "\t\t\"\"\" Definición de estado final \r\n",
    "\t\te inicialización del problema \"\"\"\r\n",
    "\t\tself.goal = goal\r\n",
    "\t\tProblem.__init__(self, initial, goal)\r\n",
    "\r\n",
    "\tdef actions(self, state):\r\n",
    "\t\tpos_hueco=state.index(0) # busco la posicion del 0\r\n",
    "\t\tactionsL=list()\r\n",
    "\r\n",
    "\t\tif pos_hueco not in (0, 1, 2, 3):\r\n",
    "\t\t\tactionsL.append(\"Mover hueco arriba\")\r\n",
    "\t\tif pos_hueco not in (state.count - 4,state.count - 3, state.count - 2, state.count - 1):\r\n",
    "\t\t\tactionsL.append(\"Mover hueco abajo\")\r\n",
    "\t\tif (pos_hueco % 4) != 0:\r\n",
    "\t\t\tactionsL.append(\"Mover hueco izquierda\")\r\n",
    "\t\tif ((pos_hueco + 1) % 4) != 0:\r\n",
    "\t\t\tactionsL.append(\"Mover hueco derecha\")\r\n",
    "\t\treturn actionsL\r\n",
    "\r\n",
    "\tdef result(self,state,action):\r\n",
    "\t\tpos_hueco = state.index(0)\r\n",
    "\t\tl = list(state)\r\n",
    "\r\n",
    "\t\tif action.count(\"ar\",11) == 1:\r\n",
    "\t\t\tl[pos_hueco] = l[pos_hueco - 4]\r\n",
    "\t\t\tl[pos_hueco - 4] = 0\r\n",
    "\t\tif action.count(\"ab\",11) == 1:\r\n",
    "\t\t\tl[pos_hueco] = l[pos_hueco + 4]\r\n",
    "\t\t\tl[pos_hueco + 4] = 0\r\n",
    "\t\tif action.count(\"iz\",11) == 1:\r\n",
    "\t\t\tl[pos_hueco] = l[pos_hueco - 1]\r\n",
    "\t\t\tl[pos_hueco - 1] = 0\r\n",
    "\t\tif action.count(\"de\",11) == 1:\r\n",
    "\t\t\tl[pos_hueco] = l[pos_hueco + 1]\r\n",
    "\t\t\tl[pos_hueco + 1] = 0\r\n",
    "\r\n",
    "\t\treturn tuple(l)\r\n",
    "\r\n",
    "\tdef h(self, node):\r\n",
    "\t\treturn 1\r\n"
   ],
   "outputs": [],
   "metadata": {}
  },
  {
   "cell_type": "markdown",
   "source": [
    "\tTable example:\r\n",
    "\t\t|  0 |  1 | 2  | 3  |\r\n",
    "\t\t|  4 |  5 | 6  | 7  |\r\n",
    "\t\t|  8 |  9 | 10 | 11 |\r\n",
    "\t\t| 12 | 13 | 14 | 15 |"
   ],
   "metadata": {}
  },
  {
   "cell_type": "markdown",
   "source": [
    "Realiza algunas pruebas para comprobar que la clase está bien definida. "
   ],
   "metadata": {}
  },
  {
   "cell_type": "markdown",
   "source": [
    "## Parte II: Experimentación con los algoritmos implementados. Ejecución de los algoritmos de búsqueda de soluciones para una instancia del Problema."
   ],
   "metadata": {}
  },
  {
   "cell_type": "markdown",
   "source": [
    "En primer lugar vamos a ver cómo funciona la búsqueda ciega (en anchura y en profundidad) para encontrar soluciones para los tres problemas anteriores: el problema de las jarras, los misioneros y el problema del ocho puzzle con distintos estados iniciales."
   ],
   "metadata": {}
  },
  {
   "cell_type": "code",
   "execution_count": null,
   "source": [
    "# Cargamos el módulo con los algoritmos de búsqueda.\r\n",
    "from search import *\r\n",
    "from search import breadth_first_tree_search, depth_first_tree_search, depth_first_graph_search, breadth_first_graph_search"
   ],
   "outputs": [],
   "metadata": {}
  },
  {
   "cell_type": "markdown",
   "source": [
    "Para que la importación de search funcione el archivo search.py y utils.py tienen que estar en la misma carpeta que este notebook o poner la ruta correspondiente."
   ],
   "metadata": {}
  },
  {
   "cell_type": "code",
   "execution_count": null,
   "source": [
    "# una opcion para poner un prefijo a la ruta antes de importar es:\r\n",
    "import sys\r\n",
    "sys.path.append('aima-python/')\r\n",
    "import search"
   ],
   "outputs": [],
   "metadata": {}
  },
  {
   "cell_type": "code",
   "execution_count": null,
   "source": [
    "## comprueba la resolución del problema de las jarras con el método de búsqueda en anchura.  "
   ],
   "outputs": [],
   "metadata": {}
  },
  {
   "cell_type": "code",
   "execution_count": null,
   "source": [
    "breadth_first_tree_search(Jarras()).solution()"
   ],
   "outputs": [],
   "metadata": {}
  },
  {
   "cell_type": "code",
   "execution_count": null,
   "source": [
    "depth_first_graph_search(Jarras()).solution()"
   ],
   "outputs": [],
   "metadata": {}
  },
  {
   "cell_type": "markdown",
   "source": [
    "### EJERCICIO 3. Prueba los algoritmos de búsqueda ciega con el problema de los misioneros y con el  puzzle de 8 y de 16.  Comenta al final cómo se comportan los algoritmos en cuanto a eficiencia y resultados. "
   ],
   "metadata": {}
  },
  {
   "cell_type": "code",
   "execution_count": null,
   "source": [
    "# Usaremos las implementaciones de los algoritmos de búsqueda de AIMA para \r\n",
    "# resolver los problemas que hemos representado. \r\n",
    "\r\n",
    "#Por ejemplo, para resolver el problema de los misioneros con \r\n",
    "# el método de busqueda en anchura \r\n",
    "\r\n",
    "# breadth_first_tree_search(misioneros).solution()\r\n",
    "\r\n",
    "# Realiza pruebas con los diferentes algoritmos observando el comportamiento."
   ],
   "outputs": [],
   "metadata": {}
  },
  {
   "cell_type": "code",
   "execution_count": null,
   "source": [
    "p8 = Ocho_Puzzle((2, 8, 3, 1, 6, 4, 7, 0, 5))\r\n",
    "p8.initial"
   ],
   "outputs": [],
   "metadata": {}
  },
  {
   "cell_type": "code",
   "execution_count": null,
   "source": [
    "p8.goal"
   ],
   "outputs": [],
   "metadata": {}
  },
  {
   "cell_type": "code",
   "execution_count": null,
   "source": [
    "breadth_first_tree_search(Ocho_Puzzle((2, 8, 3, 1, 6, 4, 7, 0, 5))).solution()\r\n",
    "## La llamada corresponde al algoritmo de busqueda en anchura sin control de repetidos.  \r\n",
    "## Esta llamada no funciona, se queda en [*]\r\n",
    "## Si es método de busqueda en anchura es completo.. ¿no debería terminar? ¿qué crees que está pasando?\r\n",
    "## ..............................................................................."
   ],
   "outputs": [],
   "metadata": {}
  },
  {
   "cell_type": "raw",
   "source": [
    "# Añade a la definición del problema Ocho_Puzzle la función solvability que comprueba si un estado inicial tiene solución.\r\n",
    "def check_solvability(self, state):\r\n",
    "        \"\"\" Checks if the given state is solvable \"\"\"\r\n",
    "# The solvability of a configuration can be checked by calculating the Inversion Permutation. \r\n",
    "#If the total Inversion Permutation is even then the initial configuration is solvable else the initial configuration is not solvable which means that only 9!/2 initial states lead to a solution.\r\n",
    "        inversion = 0\r\n",
    "        for i in range(len(state)):\r\n",
    "            for j in range(i+1, len(state)):\r\n",
    "                if (state[i] > state[j]) and state[i] != 0 and state[j]!= 0:\r\n",
    "                    inversion += 1\r\n",
    "        return inversion % 2 == 0        "
   ],
   "metadata": {}
  },
  {
   "cell_type": "code",
   "execution_count": null,
   "source": [
    "# Comprueba si el estado inicial (2, 8, 3, 1, 6, 4, 7, 0, 5) tiene solución.\r\n",
    "p8 = Ocho_Puzzle((2, 8, 3, 1, 6, 4, 7, 0, 5))\r\n",
    "if p8.check_solvability(p8.initial):\r\n",
    "    sol= breadth_first_tree_search(p8).solution()\r\n",
    "else: \r\n",
    "    sol=\"Este estado inicial no tiene solucion\""
   ],
   "outputs": [],
   "metadata": {}
  },
  {
   "cell_type": "code",
   "execution_count": null,
   "source": [
    "sol"
   ],
   "outputs": [],
   "metadata": {}
  },
  {
   "cell_type": "code",
   "execution_count": null,
   "source": [
    "breadth_first_tree_search(Ocho_Puzzle((1,2,3,4,5,6,0,7,8))).solution()"
   ],
   "outputs": [],
   "metadata": {}
  },
  {
   "cell_type": "code",
   "execution_count": null,
   "source": [
    "estado = Ocho_Puzzle((2, 4, 3, 1, 5, 6, 7, 8, 0))"
   ],
   "outputs": [],
   "metadata": {}
  },
  {
   "cell_type": "code",
   "execution_count": null,
   "source": [
    "breadth_first_tree_search(estado).solution()\n",
    "# Respuesta: ['arriba', 'izquierda', 'arriba', 'izquierda', 'abajo', 'derecha', 'derecha', 'abajo']"
   ],
   "outputs": [],
   "metadata": {}
  },
  {
   "cell_type": "code",
   "execution_count": null,
   "source": [
    "depth_first_graph_search(estado).solution()"
   ],
   "outputs": [],
   "metadata": {}
  },
  {
   "cell_type": "code",
   "execution_count": null,
   "source": [
    "breadth_first_graph_search(estado).solution()"
   ],
   "outputs": [],
   "metadata": {}
  },
  {
   "cell_type": "markdown",
   "source": [
    "#### En este ejercicio se ha podido observar los resultados y tiempo de la ejecución de los algoritmos de búsqueda ciega.  Escribe aquí tus conclusiones respecto a la resolución de los problemas con búsqueda ciega:\n",
    "- Misioneros: \n",
    "- Puzle de 8:\n",
    "- Puzle de 16:  \n",
    "\n",
    "**********************************************************************************\n",
    "Puedes añadir todo el espacio que necesites."
   ],
   "metadata": {}
  },
  {
   "cell_type": "markdown",
   "source": [
    "### EJERCICIO 4:  Definición de heurísticas"
   ],
   "metadata": {}
  },
  {
   "cell_type": "code",
   "execution_count": null,
   "source": [
    "#### 4.1. Para el problema de los misioneros define una heurística y comenta sus propiedades\r\n",
    "#Puedes utilizar alguna de las heurísticas vistas en clase. \r\n",
    "\r\n",
    "# Heurísticas para el problema de los misioneros.\r\n"
   ],
   "outputs": [],
   "metadata": {}
  },
  {
   "cell_type": "markdown",
   "source": [
    "### EJERCICIO 5. \n",
    "#### Usar las implementaciones de AIMA de los algoritmos de búsqueda_coste_uniforme, busqueda_primero_el_mejor y búsqueda_a_estrella (con las heurísticas anteriores) para resolver el problema de los misioneros y algun ejemplo del puzle de 8 y puzle de 16. \n",
    "\n",
    "#### Comparar los costes temporales usando %timeit y comentar los resultados."
   ],
   "metadata": {}
  },
  {
   "cell_type": "code",
   "execution_count": null,
   "source": [
    "####  Vamos a probar el 8-puzzle utilizando el siguiente **estado inicial** \r\n",
    "\r\n",
    "#              +---+---+---+\r\n",
    "#              | 2 | 4 | 3 |\r\n",
    "#              +---+---+---+\r\n",
    "#              | 1 | 5 | 6 |\r\n",
    "#              +---+---+---+\r\n",
    "#              | 7 | 8 | H |\r\n",
    "#              +---+---+---+\r\n",
    "\r\n",
    "puzle = Ocho_Puzzle((2, 4, 3, 1, 5, 6, 7, 8, 0)) \r\n",
    "astar_search(puzle).solution()"
   ],
   "outputs": [],
   "metadata": {}
  },
  {
   "cell_type": "code",
   "execution_count": null,
   "source": [
    "astar_search(puzzle,manhattan).solution()"
   ],
   "outputs": [],
   "metadata": {}
  },
  {
   "cell_type": "code",
   "execution_count": null,
   "source": [
    "puzle.initial"
   ],
   "outputs": [],
   "metadata": {}
  },
  {
   "cell_type": "code",
   "execution_count": null,
   "source": [
    "puzle.goal"
   ],
   "outputs": [],
   "metadata": {}
  },
  {
   "cell_type": "code",
   "execution_count": null,
   "source": [
    "astar_search(puzle,linear).solution()"
   ],
   "outputs": [],
   "metadata": {}
  },
  {
   "cell_type": "code",
   "execution_count": null,
   "source": [
    "astar_search(puzle,max_heuristic).solution()"
   ],
   "outputs": [],
   "metadata": {}
  },
  {
   "cell_type": "markdown",
   "source": [
    "¿Has notado diferencias en los tiempos de ejecución? ¿y en los resultados?\n",
    "Vamos a medirlo "
   ],
   "metadata": {}
  },
  {
   "cell_type": "code",
   "execution_count": null,
   "source": [
    "puzzle_1 = Ocho_Puzzle((2, 4, 3, 1, 5, 6, 7, 8, 0))\n",
    "puzzle_2 = Ocho_Puzzle((1, 2, 3, 4, 5, 6, 0, 7, 8))\n",
    "puzzle_3 = Ocho_Puzzle((1, 2, 3, 4, 5, 7, 8, 6, 0))"
   ],
   "outputs": [],
   "metadata": {}
  },
  {
   "cell_type": "code",
   "execution_count": null,
   "source": [
    "%%timeit\n",
    "astar_search(puzzle_1, linear)\n",
    "astar_search(puzzle_2, linear)\n",
    "astar_search(puzzle_3, linear)"
   ],
   "outputs": [],
   "metadata": {}
  },
  {
   "cell_type": "code",
   "execution_count": null,
   "source": [
    "%%timeit\n",
    "astar_search(puzzle_1, manhattan)\n",
    "astar_search(puzzle_2, manhattan)\n",
    "astar_search(puzzle_3, manhattan)"
   ],
   "outputs": [],
   "metadata": {}
  },
  {
   "cell_type": "code",
   "execution_count": null,
   "source": [
    "%%timeit\n",
    "astar_search(puzzle_1, sqrt_manhattan)\n",
    "astar_search(puzzle_2, sqrt_manhattan)\n",
    "astar_search(puzzle_3, sqrt_manhattan)"
   ],
   "outputs": [],
   "metadata": {}
  },
  {
   "cell_type": "code",
   "execution_count": null,
   "source": [
    "%%timeit\n",
    "astar_search(puzzle_1, max_heuristic)\n",
    "astar_search(puzzle_2, max_heuristic)\n",
    "astar_search(puzzle_3, max_heuristic)"
   ],
   "outputs": [],
   "metadata": {}
  },
  {
   "cell_type": "markdown",
   "source": [
    "####  Realiza pruebas también con el puzle de 16 con los estados iniciales que quieras.  Escribe aquí tus conclusiones sobre qué heurística te parece mejor para este problema.  \n",
    "\n",
    "Ten en cuenta que el número de posibles estados iniciales es n!, siendo n el número de fichas (números y hueco). Por tanto, en el puzle 4x4 (16 fichas), tendremos más de 130.000 millones de posibles estados iniciales. Sin embargo, sólo la mitad de esas combinaciones tiene solución. En el caso del siguiente estado inicial que sí tiene solución: (1,2,3,4,5,6,7,8,9,10,12,15,13,14,11,0) indica los nodos generados por A* con alguna de las heurísticas y comparalo con el puzle de 8.\n",
    "\n",
    "\n",
    "#### Justifica claramente la respuesta basándote en los resultados esperados  (según las clases teóricas) y los resultados obtenidos en las pruebas anteriores.\n",
    "\n",
    "----------------------------------------------------------------------------\n",
    "----------------------------------------------------------------------------\n",
    "----------------------------------------------------------------------------\n",
    "----------------------------------------------------------------------------\n",
    "----------------------------------------------------------------------------\n",
    "----------------------------------------------------------------------------\n",
    "----------------------------------------------------------------------------\n",
    "----------------------------------------------------------------------------\n"
   ],
   "metadata": {}
  },
  {
   "cell_type": "markdown",
   "source": [
    "## Parte III:  Calcular estadísticas sobre la ejecución de los algoritmos para resolución de problemas de ocho puzzle. \n",
    "### El objetivo es comprobar experimentalmente las propiedades teóricas de los algoritmos vistas en clase.\n",
    "Usaremos la función %timeit para medir los tiempos y para el espacio una version modificada de Problema que almacena el número de nodos.\n",
    "\n"
   ],
   "metadata": {}
  },
  {
   "cell_type": "markdown",
   "source": [
    "En la clase modificada también vamos a incluir el calculo que nos diga si un cierto tablero tiene solución o no. Esto es muy útil.. como hemos comentado al principio solo algunos tableros tienen solucion. En el caso del puzle de 8 un tablero se ha demostrado que se puede comprobar calculando su paridad (o número de inversiones). Si es impar el tablero **no** tiene solución.  El concepto de inversión de una ficha será la suma del número de fichas que se encuentran en una posición superior a dicha ficha y que deberían estar situadas en una posición inferior. La inversión total será la suma de las inversiones individuales. Si este número es par, el puzzle tendrá solución. En caso contrario, no habrá solución. "
   ],
   "metadata": {}
  },
  {
   "cell_type": "code",
   "execution_count": null,
   "source": [
    "# Hacemos una definición ampliada de la clase Problem de AIMA que nos va a permitir experimentar con distintos\r\n",
    "# estados iniciales, algoritmos y heurísticas. \r\n",
    "\r\n",
    "# Añadimos en la clase ampliada la capacidad para contar el número de nodos analizados durante la\r\n",
    "# búsqueda:\r\n",
    "\r\n",
    "\r\n",
    "class Problema_con_Analizados(Problem):\r\n",
    "\r\n",
    "    \"\"\"Es un problema que se comporta exactamente igual que el que recibe al\r\n",
    "       inicializarse, y además incorpora unos atributos nuevos para almacenar el\r\n",
    "       número de nodos analizados durante la búsqueda. De esta manera, no\r\n",
    "       tenemos que modificar el código del algoritmo de búsqueda.\"\"\" \r\n",
    "         \r\n",
    "    def __init__(self, problem):\r\n",
    "        self.initial = problem.initial\r\n",
    "        self.problem = problem\r\n",
    "        self.analizados  = 0\r\n",
    "        self.goal = problem.goal\r\n",
    "\r\n",
    "    def actions(self, estado):\r\n",
    "        return self.problem.actions(estado)\r\n",
    "\r\n",
    "    def result(self, estado, accion):\r\n",
    "        return self.problem.result(estado, accion)\r\n",
    "\r\n",
    "    def goal_test(self, estado):\r\n",
    "        self.analizados += 1\r\n",
    "        return self.problem.goal_test(estado)\r\n",
    "\r\n",
    "    def coste_de_aplicar_accion(self, estado, accion):\r\n",
    "        return self.problem.coste_de_aplicar_accion(estado,accion)"
   ],
   "outputs": [],
   "metadata": {}
  },
  {
   "cell_type": "code",
   "execution_count": null,
   "source": [
    "estado_inicial = (1,2,3,4,5,6,7,0,8)\r\n",
    "p8p=Problema_con_Analizados(Ocho_Puzzle(estado_inicial))\r\n",
    "p8 = Ocho_Puzzle(estado_inicial)"
   ],
   "outputs": [],
   "metadata": {}
  },
  {
   "cell_type": "code",
   "execution_count": null,
   "source": [
    "p8p.initial"
   ],
   "outputs": [],
   "metadata": {}
  },
  {
   "cell_type": "code",
   "execution_count": null,
   "source": [
    "p8p.goal"
   ],
   "outputs": [],
   "metadata": {}
  },
  {
   "cell_type": "code",
   "execution_count": null,
   "source": [
    "puzzle_1 = Ocho_Puzzle((2, 4, 3, 1, 5, 6, 7, 8, 0))\r\n",
    "astar_search(puzzle_1, manhattan).solution()"
   ],
   "outputs": [],
   "metadata": {}
  },
  {
   "cell_type": "code",
   "execution_count": null,
   "source": [
    "#### 4.2. Para el problema del puzle de 8 y de 16 se pide definir  las siguientes funciones heurísticas:\r\n",
    "\"\"\" \r\n",
    "* linear(node): cuenta el número de casillas mal colocadas respecto al estado final.\r\n",
    "* manhattan(node): suma la distancia Manhattan desde cada casilla a la posición en la que debería estar en el estado final.\r\n",
    "* max_heuristic(node: maximo de las dos anteriores\r\n",
    "* sqrt_manhattan(node):  raíz cuadrada de la distancia Manhattan\r\n",
    "\"\"\"\r\n",
    "\r\n",
    "# Heuristicas para el 8 Puzzle. Puedes definir las funciones fuera de la clase ya que en la llamada a A* puedes pasar el nombre \r\n",
    "# de la función. \r\n",
    "\r\n",
    "def linear(node):\r\n",
    "    #goal = node.state.goal\r\n",
    "    goal = (1,2,3,4,5,6,7,8,0)\r\n",
    "    ??????? \r\n",
    "\r\n",
    "\r\n",
    "\r\n",
    "def manhattan(node):\r\n",
    "    state = node.state\r\n",
    "   \r\n",
    "    ????\r\n",
    "    \r\n",
    "    return mhd\r\n",
    "                \r\n",
    "def sqrt_manhattan(node):\r\n",
    "    state = node.state\r\n",
    "    ?????\r\n",
    "    \r\n",
    "    return math.sqrt(mhd)\r\n",
    "\r\n",
    "def max_heuristic(node):\r\n",
    "    score1 = manhattan(node)\r\n",
    "    score2 = linear(node)\r\n",
    "    return max(score1, score2)\r\n",
    "        "
   ],
   "outputs": [],
   "metadata": {}
  },
  {
   "cell_type": "code",
   "execution_count": null,
   "source": [
    "astar_search(p8, manhattan).solution()"
   ],
   "outputs": [],
   "metadata": {}
  },
  {
   "cell_type": "code",
   "execution_count": null,
   "source": [
    "astar_search(p8p, manhattan).solution()"
   ],
   "outputs": [],
   "metadata": {}
  },
  {
   "cell_type": "code",
   "execution_count": null,
   "source": [
    "def resuelve_ocho_puzzle(estado_inicial, algoritmo, h=None):\r\n",
    "    \"\"\"Función para aplicar un algoritmo de búsqueda dado al problema del ocho\r\n",
    "       puzzle, con un estado inicial dado y (cuando el algoritmo lo necesite)\r\n",
    "       una heurística dada.\r\n",
    "       Ejemplo de uso:\r\n",
    "           puzzle_1 = (2, 4, 3, 1, 5, 6, 7, 8, 0)\r\n",
    "           resuelve_ocho_puzzle(puzzle_1,astar_search,h2_ocho_puzzle)\r\n",
    "        Solución: ['Mover hueco arriba', 'Mover hueco izquierda', 'Mover hueco arriba', \r\n",
    "        'Mover hueco izquierda', 'Mover hueco abajo', 'Mover hueco derecha', 'Mover hueco derecha', 'Mover hueco abajo']\r\n",
    "        Algoritmo: astar_search\r\n",
    "        Heurística: h2_ocho_puzzle\r\n",
    "        Longitud de la solución: 8. Nodos analizados: 11\r\n",
    "       \"\"\"\r\n",
    "    p8=Ocho_Puzzle(estado_inicial)\r\n",
    "    p8p=Problema_con_Analizados(p8)\r\n",
    "    if p8.check_solvability(estado_inicial):\r\n",
    "        if h: \r\n",
    "            sol= algoritmo(p8p,h).solution()\r\n",
    "        else: \r\n",
    "            sol= algoritmo(p8p).solution()\r\n",
    "        print(\"Solución: {0}\".format(sol))\r\n",
    "        print(\"Algoritmo: {0}\".format(algoritmo.__name__))\r\n",
    "        if h: \r\n",
    "            print(\"Heurística: {0}\".format(h.__name__))\r\n",
    "        else:\r\n",
    "            pass\r\n",
    "        print(\"Longitud de la solución: {0}. Nodos analizados: {1}\".format(len(sol),p8p.analizados))\r\n",
    "    else: \r\n",
    "        print(\"Este problema no tiene solucion. \")\r\n"
   ],
   "outputs": [],
   "metadata": {}
  },
  {
   "cell_type": "code",
   "execution_count": null,
   "source": [
    "resuelve_ocho_puzzle(estado_inicial,astar_search,manhattan)"
   ],
   "outputs": [],
   "metadata": {}
  },
  {
   "cell_type": "code",
   "execution_count": null,
   "source": [
    "##BORRAR ESTO EN EL ENUNCIADO\r\n",
    "E1 = (2,7,3,4,6,8,1,0,5)\r\n",
    "E2 = (3,0,1,8,4,6,5,2,7)\r\n",
    "E3 = (4,5,6,1,0,3,7,8,2)\r\n",
    "E4 = (1,2,3,0,5,6,4,7,8)\r\n",
    "E5 = (0,8,7,6,5,4,3,2,1)\r\n",
    "resuelve_ocho_puzzle(E5,astar_search,manhattan)"
   ],
   "outputs": [],
   "metadata": {}
  },
  {
   "cell_type": "markdown",
   "source": [
    "### Ejercicio 6:  resolver usando las distintas búsquedas y en su caso, las distintas heurísticas, el problema del 8 puzzle para los siguientes estados iniciales:\n",
    "\n",
    "E1 = (2,7,3,4,6,8,1,0,5)\n",
    "E2 = (3,0,1,8,4,6,5,2,7)\n",
    "E3 = (4,5,6,1,0,3,7,8,2)\n",
    "E4 = (1,2,3,0,5,6,4,7,8)\n",
    "E5 = (0,8,7,6,5,4,3,2,1)\n",
    "\n",
    "          E1              E2              E3              E4               E5\n",
    "           \n",
    "     +---+---+---+   +---+---+---+   +---+---+---+   +---+---+---+    +---+---+---+  \n",
    "     | 2 | 7 | 3 |   | 3 | 0 | 1 |   | 4 | 5 | 6 |   | 1 | 2 | 3 |    | H | 8 | 7 |\n",
    "     +---+---+---+   +---+---+---+   +---+---+---+   +---+---+---+    +---+---+---+\n",
    "     | 4 | 6 | 8 |   | 8 | 4 | 6 |   | 1 | 0 | 3 |   | H | 5 | 6 |    | 6 | 5 | 4 |\n",
    "     +---+---+---+   +---+---+---+   +---+---+---+   +---+---+---+    +---+---+---+\n",
    "     | 1 | H | 5 |   | 5 | 2 | 7 |   | 7 | 8 | 2 |   | 4 | 7 | 8 |    | 3 | 2 | 1 |\n",
    "     +---+---+---+   +---+---+---+   +---+---+---+   +---+---+---+    +---+---+---+\n",
    "   \n",
    " Se pide, en cada caso, obtener detalles del tiempo y espacio necesario para la resolución de estos estados.\n",
    " Hacerlo con la función resuelve_ocho_puzzle, para\n",
    " obtener, además de la solución, la longitud (el coste) de la solución\n",
    " obtenida y el número de nodos analizados. Anotar los resultados en la siguiente tabla (L, longitud de la solución, NA, nodos analizados, T, tiempo)\n",
    " \n",
    "-----------------------------------------------------------------------------------------\n",
    "                                       E1           E2           E3          E4        E5\n",
    "    Anchura                            L=           L=           L=          L=        L=\n",
    "                                       T=           T=           T=          T=        T=\n",
    "                                       NA=          NA=          NA=         NA=       NA=\n",
    "   \n",
    "    Profundidad                        L=           L=           L=          L=        L=\n",
    "                                       T=           T=           T=          T=        T=\n",
    "                                       NA=          NA=          NA=         NA=       NA=\n",
    "                                       \n",
    "    Coste Uniforme                     L=           L=           L=          L=        L=\n",
    "                                       T=           T=           T=          T=        T=\n",
    "                                       NA=          NA=          NA=         NA=       NA=\n",
    "                                       \n",
    "    Primero el mejor (linear)          L=           L=           L=          L=        L=\n",
    "                                       T=           T=           T=          T=        T= \n",
    "                                       NA=          NA=          NA=         NA=       NA= \n",
    "                                                                            \n",
    "    Primero el mejor (manhattan)       L=           L=           L=          L= \n",
    "                                       T=           T=           T=          T=  \n",
    "                                       NA=          NA=          NA=         NA=\n",
    "                                                                             \n",
    "    A* (linear)                        L=           L=           L=          L= \n",
    "                                       T=           T=           T=          T=  \n",
    "                                       NA=          NA=          NA=         NA=\n",
    "                                                                             \n",
    "    A* (manhattan)                     L=           L=           L=          L= \n",
    "                                       T=           T=           T=          T=  \n",
    "                                       NA=          NA=          NA=         NA=\n",
    "\n",
    "\n",
    " -----------------------------------------------------------------------------------------\n",
    "PUEDES AMPLIAR LA TABLA CON PRUEBAS ADICIONALES. \n",
    "\n",
    "Escribe aquí tus conclusiones \n",
    "\n",
    " **justificar los resultados con las distintas propiedades teóricas estudiadas en clase**.  \n",
    "\n"
   ],
   "metadata": {}
  },
  {
   "cell_type": "markdown",
   "source": [
    "### Ejercicio 7:  resolver usando distintas búsquedas y/o heurísticas, el problema del 16 puzzle para algunos  estados iniciales:\n",
    "\n",
    "Escribe aquí tus conclusiones sobre los resultados y la eficiencia de las distintas opciones. \n",
    "\n"
   ],
   "metadata": {}
  },
  {
   "cell_type": "markdown",
   "source": [
    "###  PARTE IV:  Se os proporcionará un enunciado de algún problema para representar y resolver usando el paradigma del espacio de estados. \n"
   ],
   "metadata": {}
  },
  {
   "cell_type": "markdown",
   "source": [],
   "metadata": {}
  }
 ],
 "metadata": {
  "kernelspec": {
   "name": "python3",
   "display_name": "Python 3.9.1 64-bit"
  },
  "language_info": {
   "codemirror_mode": {
    "name": "ipython",
    "version": 3
   },
   "file_extension": ".py",
   "mimetype": "text/x-python",
   "name": "python",
   "nbconvert_exporter": "python",
   "pygments_lexer": "ipython3",
   "version": "3.9.1"
  },
  "interpreter": {
   "hash": "ee5cc6fef2d70a7e71ee3826687cbd150f18158e0b1eef11d4f4f92bb920e304"
  }
 },
 "nbformat": 4,
 "nbformat_minor": 2
}