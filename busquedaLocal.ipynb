{
  "nbformat": 4,
  "nbformat_minor": 0,
  "metadata": {
    "kernelspec": {
      "display_name": "Python 3",
      "language": "python",
      "name": "python3"
    },
    "language_info": {
      "codemirror_mode": {
        "name": "ipython",
        "version": 3
      },
      "file_extension": ".py",
      "mimetype": "text/x-python",
      "name": "python",
      "nbconvert_exporter": "python",
      "pygments_lexer": "ipython3",
      "version": "3.8.8"
    },
    "colab": {
      "name": "busquedaLocal.ipynb",
      "provenance": [],
      "collapsed_sections": [
        "JWdG5W-6K8CY",
        "YQNqMgCOK8Ci",
        "oZL66c0nK8Cp",
        "sMjqPurQK8Cq",
        "6DkeUgNQK8Cu",
        "SlioKySPK8Cw"
      ],
      "include_colab_link": true
    }
  },
  "cells": [
    {
      "cell_type": "markdown",
      "metadata": {
        "id": "view-in-github",
        "colab_type": "text"
      },
      "source": [
        "<a href=\"https://colab.research.google.com/github/Jandaknrf/Practicas_IA/blob/main/busquedaLocal.ipynb\" target=\"_parent\"><img src=\"https://colab.research.google.com/assets/colab-badge.svg\" alt=\"Open In Colab\"/></a>"
      ]
    },
    {
      "cell_type": "markdown",
      "metadata": {
        "id": "ICb0nMWhK8CC"
      },
      "source": [
        "# Sesión 5 - Inteligencia Artificial\n",
        "## Belén Díaz Agudo -  Facultad de Informática UCM\n",
        "## Búsqueda local\n",
        "En esta primera parte usaremos ejercicios paso a paso para familiarizarnos con la resolución de problemas sencillos de optimización, problemas conocidos que vamos a resolver utilizando algoritmos de búsqueda local. \n",
        "En la segunda parte de la práctica se pide resolver el problema dado en el enunciado."
      ]
    },
    {
      "cell_type": "markdown",
      "metadata": {
        "id": "0zviBLDgK8CJ"
      },
      "source": [
        "## Parte 1. Algoritmo de escalada\n",
        "Hill Climbing es un algoritmo de búsqueda local heurística utilizada para problemas de optimización.\n",
        "**Esta solución puede o no ser el óptimo global**. El algoritmo es una variante del algoritmo de generación y prueba.\n",
        "<br>\n",
        "En general, el algoritmo funciona de la siguiente manera:\n",
        "- Evaluar el estado inicial.\n",
        "- Si es igual al estado del objetivo, terminamos.\n",
        "- Encuentra un estado vecino al estado actual\n",
        "- Evaluar este estado. Si está más cerca del estado objetivo que antes, reemplace el estado inicial con este estado y repita estos pasos.\n",
        "<br>\n",
        "Usaremos la implementación de AIMA que está en el módulo search.py\n",
        "\n",
        "    def hill_climbing(problem):\n",
        "        \"\"\"From the initial node, keep choosing the neighbor with highest value,\n",
        "        stopping when no neighbor is better. [Figure 4.2]\"\"\"\n",
        "        current = Node(problem.initial)\n",
        "        while True:\n",
        "            neighbors = current.expand(problem)\n",
        "            if not neighbors:\n",
        "                break\n",
        "            neighbor = argmax_random_tie(neighbors,\n",
        "                                     key=lambda node: problem.value(node.state))\n",
        "            if problem.value(neighbor.state) <= problem.value(current.state):\n",
        "                break\n",
        "            current = neighbor\n",
        "        return current.state\n"
      ]
    },
    {
      "cell_type": "markdown",
      "metadata": {
        "id": "jCupXvm_K8CL"
      },
      "source": [
        "### TSP (Travelling Salesman Problem): el problema del viajante\n",
        "Dado un conjunto de ciudades y la distancia entre cada par de ciudades, el problema es encontrar la ruta más corta posible que visite cada ciudad exactamente una vez y regrese al punto de partida. Es un problema NP hard. No existen una solución de coste polinomial. "
      ]
    },
    {
      "cell_type": "code",
      "metadata": {
        "id": "sZux34XHK8CM"
      },
      "source": [
        "cd aima-python"
      ],
      "execution_count": null,
      "outputs": []
    },
    {
      "cell_type": "code",
      "metadata": {
        "id": "grxJjJcgK8CO"
      },
      "source": [
        "##Resolvereremos el problema del viajante TSP para encontrar una solución aproximada.\n",
        "from search import *\n",
        "\n",
        "class TSP_problem(Problem):\n",
        "\n",
        "    def two_opt(self, state):\n",
        "        \"\"\" Neighbour generating function for Traveling Salesman Problem \"\"\"\n",
        "        ## Puedes buscar información adicional del método 2-opt. \n",
        "        ## Un vecino 2-opt consiste en eliminar dos aristas y volver a conectar los dos caminos resultantes de \n",
        "        ## forma diferente para obtener un nuevo recorrido. \n",
        "                \n",
        "        neighbour_state = state[:]\n",
        "        left = random.randint(0, len(neighbour_state) - 1)\n",
        "        right = random.randint(0, len(neighbour_state) - 1)\n",
        "        if left > right:\n",
        "            left, right = right, left\n",
        "        neighbour_state[left: right + 1] = reversed(neighbour_state[left: right + 1])\n",
        "        return neighbour_state\n",
        "\n",
        "    def actions(self, state):\n",
        "        \"\"\" action that can be excuted in given state \"\"\"\n",
        "        return [self.two_opt]\n",
        "\n",
        "    def result(self, state, action):\n",
        "        \"\"\"  result after applying the given action on the given state \"\"\"\n",
        "        return action(state)\n",
        "\n",
        "    def path_cost(self, c, state1, action, state2):\n",
        "        \"\"\" total distance for the Traveling Salesman to be covered if in state2  \"\"\"\n",
        "        cost = 0\n",
        "        for i in range(len(state2) - 1):\n",
        "            cost += distances[state2[i]][state2[i + 1]]\n",
        "        cost += distances[state2[0]][state2[-1]]\n",
        "        return cost\n",
        "\n",
        "    def value(self, state):\n",
        "        \"\"\" value of path cost given negative for the given state \"\"\"\n",
        "        return -1 * self.path_cost(None, None, None, state)"
      ],
      "execution_count": null,
      "outputs": []
    },
    {
      "cell_type": "code",
      "metadata": {
        "id": "StIVWCuoK8CP"
      },
      "source": [
        "## Resolveremos el TSP para las ciudades de la lista de ciudades de Rumanía.\n",
        "## ['Arad', 'Bucharest', 'Craiova', 'Drobeta', 'Eforie', 'Fagaras', 'Giurgiu', 'Hirsova', 'Iasi', 'Lugoj', 'Mehadia', 'Neamt', 'Oradea', 'Pitesti', 'Rimnicu', 'Sibiu', 'Timisoara', 'Urziceni', 'Vaslui', 'Zerind']"
      ],
      "execution_count": null,
      "outputs": []
    },
    {
      "cell_type": "markdown",
      "metadata": {
        "id": "Uyky4Iy6K8CQ"
      },
      "source": [
        "Esta es la imagen del mapa de Rumanía. \n",
        "\n",
        "![image.png](attachment:image.png)"
      ]
    },
    {
      "cell_type": "code",
      "metadata": {
        "id": "5koEHDZJK8CR"
      },
      "source": [
        "# Usaremos la siguiente representacion del libro AIMA para el mapa de Rumanía.\n",
        "\n",
        "romania_map = UndirectedGraph(dict(\n",
        "    Arad=dict(Zerind=75, Sibiu=140, Timisoara=118),\n",
        "    Bucharest=dict(Urziceni=85, Pitesti=101, Giurgiu=90, Fagaras=211),\n",
        "    Craiova=dict(Drobeta=120, Rimnicu=146, Pitesti=138),\n",
        "    Drobeta=dict(Mehadia=75),\n",
        "    Eforie=dict(Hirsova=86),\n",
        "    Fagaras=dict(Sibiu=99),\n",
        "    Hirsova=dict(Urziceni=98),\n",
        "    Iasi=dict(Vaslui=92, Neamt=87),\n",
        "    Lugoj=dict(Timisoara=111, Mehadia=70),\n",
        "    Oradea=dict(Zerind=71, Sibiu=151),\n",
        "    Pitesti=dict(Rimnicu=97),\n",
        "    Rimnicu=dict(Sibiu=80),\n",
        "    Urziceni=dict(Vaslui=142)))\n",
        "\n",
        "romania_map.locations = dict(\n",
        "    Arad=(91, 492), Bucharest=(400, 327), Craiova=(253, 288),\n",
        "    Drobeta=(165, 299), Eforie=(562, 293), Fagaras=(305, 449),\n",
        "    Giurgiu=(375, 270), Hirsova=(534, 350), Iasi=(473, 506),\n",
        "    Lugoj=(165, 379), Mehadia=(168, 339), Neamt=(406, 537),\n",
        "    Oradea=(131, 571), Pitesti=(320, 368), Rimnicu=(233, 410),\n",
        "    Sibiu=(207, 457), Timisoara=(94, 410), Urziceni=(456, 350),\n",
        "    Vaslui=(509, 444), Zerind=(108, 531))"
      ],
      "execution_count": null,
      "outputs": []
    },
    {
      "cell_type": "markdown",
      "metadata": {
        "id": "KF-nLLkxK8CS"
      },
      "source": [
        "Es bastante sencillo entender este `romania_map`. El primer nodo ** Arad ** tiene tres vecinos llamados ** Zerind **, ** Sibiu **, ** Timisoara **. Cada uno de estos nodos están a distancias 75, 140, 118 de ** Arad ** respectivamente. Y lo mismo ocurre con otros nodos.\n",
        "\n",
        "Y `romania_map.locations` contiene las posiciones de cada uno de los nodos. \n",
        "Como heurística se puede usar la distancia en línea recta o la distancia manhattan (que es diferente de la proporcionada en `romania_map`) entre dos ciudades."
      ]
    },
    {
      "cell_type": "code",
      "metadata": {
        "id": "wt-Jam48K8CT",
        "colab": {
          "base_uri": "https://localhost:8080/"
        },
        "outputId": "070bb616-06e1-4f97-9ec4-fcfa1616a19f"
      },
      "source": [
        "romania_locations = romania_map.locations\n",
        "print(romania_locations)"
      ],
      "execution_count": null,
      "outputs": [
        {
          "output_type": "stream",
          "name": "stdout",
          "text": [
            "{'Arad': (91, 492), 'Bucharest': (400, 327), 'Craiova': (253, 288), 'Drobeta': (165, 299), 'Eforie': (562, 293), 'Fagaras': (305, 449), 'Giurgiu': (375, 270), 'Hirsova': (534, 350), 'Iasi': (473, 506), 'Lugoj': (165, 379), 'Mehadia': (168, 339), 'Neamt': (406, 537), 'Oradea': (131, 571), 'Pitesti': (320, 368), 'Rimnicu': (233, 410), 'Sibiu': (207, 457), 'Timisoara': (94, 410), 'Urziceni': (456, 350), 'Vaslui': (509, 444), 'Zerind': (108, 531)}\n"
          ]
        }
      ]
    },
    {
      "cell_type": "code",
      "metadata": {
        "id": "vzW2IBl1K8CU"
      },
      "source": [
        "# node colors, node positions and node label positions\n",
        "node_positions = romania_map.locations\n",
        "node_label_pos = { k:[v[0],v[1]-10]  for k,v in romania_map.locations.items() }\n",
        "edge_weights = {(k, k2) : v2 for k, v in romania_map.graph_dict.items() for k2, v2 in v.items()}\n",
        "\n",
        "romania_graph_data = {  'graph_dict' : romania_map.graph_dict,\n",
        "                        'node_positions': node_positions,\n",
        "                        'node_label_positions': node_label_pos,\n",
        "                         'edge_weights': edge_weights\n",
        "                     }"
      ],
      "execution_count": null,
      "outputs": []
    },
    {
      "cell_type": "markdown",
      "metadata": {
        "id": "93YsgyPbK8CU"
      },
      "source": [
        ""
      ]
    },
    {
      "cell_type": "markdown",
      "metadata": {
        "id": "OJchEfD5K8CV"
      },
      "source": [
        "![image-2.png](attachment:image-2.png)"
      ]
    },
    {
      "cell_type": "markdown",
      "metadata": {
        "id": "wCVUD9xHK8CV"
      },
      "source": [
        ""
      ]
    },
    {
      "cell_type": "code",
      "metadata": {
        "id": "LDuj_IWFK8CV",
        "colab": {
          "base_uri": "https://localhost:8080/"
        },
        "outputId": "7928cae4-d33e-453f-f418-eda65a8c1edf"
      },
      "source": [
        "## el siguiente código crea un diccionario y calcula y añade al diccionario la distancia manhattan entre las ciudades. \n",
        "import numpy as np\n",
        "\n",
        "distances = {}\n",
        "all_cities = []\n",
        "\n",
        "for city in romania_map.locations.keys():\n",
        "    distances[city] = {}\n",
        "    all_cities.append(city)\n",
        "    \n",
        "all_cities.sort()\n",
        "print(all_cities)\n",
        "\n",
        "for name_1, coordinates_1 in romania_map.locations.items():\n",
        "        for name_2, coordinates_2 in romania_map.locations.items():\n",
        "            distances[name_1][name_2] = np.linalg.norm(\n",
        "                [coordinates_1[0] - coordinates_2[0], coordinates_1[1] - coordinates_2[1]])\n",
        "            distances[name_2][name_1] = np.linalg.norm(\n",
        "                [coordinates_1[0] - coordinates_2[0], coordinates_1[1] - coordinates_2[1]])"
      ],
      "execution_count": null,
      "outputs": [
        {
          "output_type": "stream",
          "name": "stdout",
          "text": [
            "['Arad', 'Bucharest', 'Craiova', 'Drobeta', 'Eforie', 'Fagaras', 'Giurgiu', 'Hirsova', 'Iasi', 'Lugoj', 'Mehadia', 'Neamt', 'Oradea', 'Pitesti', 'Rimnicu', 'Sibiu', 'Timisoara', 'Urziceni', 'Vaslui', 'Zerind']\n"
          ]
        }
      ]
    },
    {
      "cell_type": "code",
      "metadata": {
        "id": "BTjCEnJEK8CW"
      },
      "source": [
        "# Creamos una instancia del problema TSP con la lista de ciudades anterior que se ha extraido del mapa.\n",
        "# En el mapa hay informacion de las distancias que se utilizan en la clase TSP_problem para calcular el coste y las heurísticas.\n",
        "tsp = TSP_problem(all_cities)"
      ],
      "execution_count": null,
      "outputs": []
    },
    {
      "cell_type": "code",
      "metadata": {
        "id": "8gmd7kpNK8CW"
      },
      "source": [
        "## Redefinimos el hill climbing de AIMA para que el método de generacion de vecinos sea acceder al grafo que hemos definido para el TSP\n",
        "##  Escalada por máxima pendiente con 100 vecinos generados con el procedimiento 2-opt\n",
        "\n",
        "\n",
        "def hill_climbing(problem):\n",
        "    \n",
        "    \"\"\"From the initial node, keep choosing the neighbor with highest value,\n",
        "    stopping when no neighbor is better. [Figure 4.2]\"\"\"\n",
        "    \n",
        "    def find_neighbors(state, number_of_neighbors=100):\n",
        "        \"\"\" finds neighbors using two_opt method \"\"\"\n",
        "        \n",
        "        neighbors = []\n",
        "        \n",
        "        for i in range(number_of_neighbors):\n",
        "            new_state = problem.two_opt(state)\n",
        "            neighbors.append(Node(new_state))\n",
        "            state = new_state\n",
        "            \n",
        "        return neighbors\n",
        "\n",
        "    # as this is a stochastic algorithm, we will set a cap on the number of iterations\n",
        "    iterations = 10000\n",
        "    \n",
        "    current = Node(problem.initial)\n",
        "    while iterations:\n",
        "        neighbors = find_neighbors(current.state)\n",
        "        if not neighbors:\n",
        "            break\n",
        "        neighbor = argmax_random_tie(neighbors,\n",
        "                                     key=lambda node: problem.value(node.state))\n",
        "        if problem.value(neighbor.state) <= problem.value(current.state):\n",
        "            current.state = neighbor.state\n",
        "        iterations -= 1\n",
        "        \n",
        "    return current.state"
      ],
      "execution_count": null,
      "outputs": []
    },
    {
      "cell_type": "code",
      "metadata": {
        "id": "VY-rdWghK8CX",
        "colab": {
          "base_uri": "https://localhost:8080/"
        },
        "outputId": "37fe6eb2-7d59-4867-dbb0-eba070270303"
      },
      "source": [
        "# Y lo resolvemos con escalada por máxima pendiente. \n",
        "hill_climbing(tsp)"
      ],
      "execution_count": null,
      "outputs": [
        {
          "output_type": "execute_result",
          "data": {
            "text/plain": [
              "['Timisoara',\n",
              " 'Vaslui',\n",
              " 'Arad',\n",
              " 'Bucharest',\n",
              " 'Eforie',\n",
              " 'Fagaras',\n",
              " 'Oradea',\n",
              " 'Lugoj',\n",
              " 'Zerind',\n",
              " 'Pitesti',\n",
              " 'Neamt',\n",
              " 'Iasi',\n",
              " 'Craiova',\n",
              " 'Rimnicu',\n",
              " 'Sibiu',\n",
              " 'Urziceni',\n",
              " 'Giurgiu',\n",
              " 'Drobeta',\n",
              " 'Hirsova',\n",
              " 'Mehadia']"
            ]
          },
          "metadata": {},
          "execution_count": 13
        }
      ]
    },
    {
      "cell_type": "code",
      "metadata": {
        "id": "TxSFlBD_tpdx"
      },
      "source": [
        "\"\"\"\n",
        "Solución 1: 13.725s\n",
        "['Eforie',\n",
        " 'Lugoj',\n",
        " 'Bucharest',\n",
        " 'Craiova',\n",
        " 'Timisoara',\n",
        " 'Giurgiu',\n",
        " 'Iasi',\n",
        " 'Hirsova',\n",
        " 'Arad',\n",
        " 'Oradea',\n",
        " 'Vaslui',\n",
        " 'Neamt',\n",
        " 'Urziceni',\n",
        " 'Mehadia',\n",
        " 'Sibiu',\n",
        " 'Rimnicu',\n",
        " 'Drobeta',\n",
        " 'Pitesti',\n",
        " 'Zerind',\n",
        " 'Fagaras']\n",
        " ----------------------------\n",
        " Solución 2:  13.265s\n",
        "['Sibiu',\n",
        " 'Oradea',\n",
        " 'Neamt',\n",
        " 'Vaslui',\n",
        " 'Mehadia',\n",
        " 'Hirsova',\n",
        " 'Giurgiu',\n",
        " 'Arad',\n",
        " 'Iasi',\n",
        " 'Lugoj',\n",
        " 'Timisoara',\n",
        " 'Urziceni',\n",
        " 'Bucharest',\n",
        " 'Rimnicu',\n",
        " 'Craiova',\n",
        " 'Pitesti',\n",
        " 'Eforie',\n",
        " 'Fagaras',\n",
        " 'Zerind',\n",
        " 'Drobeta']\n",
        " ----------------------------\n",
        "Solución 3: 13.319s\n",
        "['Drobeta',\n",
        " 'Neamt',\n",
        " 'Eforie',\n",
        " 'Craiova',\n",
        " 'Fagaras',\n",
        " 'Vaslui',\n",
        " 'Urziceni',\n",
        " 'Zerind',\n",
        " 'Timisoara',\n",
        " 'Oradea',\n",
        " 'Mehadia',\n",
        " 'Pitesti',\n",
        " 'Lugoj',\n",
        " 'Giurgiu',\n",
        " 'Bucharest',\n",
        " 'Rimnicu',\n",
        " 'Sibiu',\n",
        " 'Iasi',\n",
        " 'Arad',\n",
        " 'Hirsova']\n",
        "----------------------------\n",
        "Solución 4: 13.521s\n",
        "['Eforie',\n",
        " 'Giurgiu',\n",
        " 'Timisoara',\n",
        " 'Mehadia',\n",
        " 'Bucharest',\n",
        " 'Craiova',\n",
        " 'Rimnicu',\n",
        " 'Zerind',\n",
        " 'Fagaras',\n",
        " 'Neamt',\n",
        " 'Vaslui',\n",
        " 'Arad',\n",
        " 'Iasi',\n",
        " 'Oradea',\n",
        " 'Urziceni',\n",
        " 'Hirsova',\n",
        " 'Drobeta',\n",
        " 'Lugoj',\n",
        " 'Pitesti',\n",
        " 'Sibiu']\n",
        "----------------------------\n",
        "Solución 5: 13.53s\n",
        "['Neamt',\n",
        " 'Mehadia',\n",
        " 'Lugoj',\n",
        " 'Arad',\n",
        " 'Iasi',\n",
        " 'Drobeta',\n",
        " 'Sibiu',\n",
        " 'Rimnicu',\n",
        " 'Giurgiu',\n",
        " 'Bucharest',\n",
        " 'Zerind',\n",
        " 'Craiova',\n",
        " 'Eforie',\n",
        " 'Pitesti',\n",
        " 'Vaslui',\n",
        " 'Fagaras',\n",
        " 'Urziceni',\n",
        " 'Hirsova',\n",
        " 'Oradea',\n",
        " 'Timisoara']\n",
        "\"\"\""
      ],
      "execution_count": null,
      "outputs": []
    },
    {
      "cell_type": "markdown",
      "metadata": {
        "id": "kUAStQgO2pWR"
      },
      "source": [
        "Las **búsquedas locales** (o por entornos) informadas son las que utilizan información de la función objetivo **sólo en el entorno de la solución actual**.\n",
        "\n",
        "Las **búsquedas monótonas** **sólo** aceptan mejoras de la **solución que realiza el recorrido**. \n",
        "\n",
        "Las **búsquedas locales monótonas** son las búsquedas locales que sólo aplican movimientos que **mejoren la solución actual del recorrido**."
      ]
    },
    {
      "cell_type": "markdown",
      "metadata": {
        "id": "JWdG5W-6K8CY"
      },
      "source": [
        "### Ejercicio 1. Resuelve el problema TSP con el algoritmo de escalada por máxima pendiente en el mapa de ciudades de Rumanía y explica el resultado obtenido. \n",
        "\n",
        "Sólo se pide hacer una comparativa teórica (breve) con cómo se comporta este algoritmo.\n",
        "Relacionarlo con otros algoritmos vistos en clase.\n",
        "\n",
        "Realiza varias ejecuciones y comenta razonadamente las propiedades del algoritmo: \n",
        "\n",
        "1) Eficiencia y optimalidad en base a la ejecución. \n",
        "- Hill Climbing no es un algoritmo adecuado para resolver este problema porque genera soluciones aleatorias que bloquean rápidamente.\n",
        "- Sería más eficiente emplear los Algorimos Genéticos.  \n",
        " \n",
        "2) ¿Ha encontrado el algoritmo el óptimo global?\n",
        "- Es posible que, por azar, se haya encontrado el óptimo global.\n",
        "- Hill Climbing es un algoritmo de búsqueda local que encuetra la mejor solución posible en el entorno de la solución actual, es decir, encuentra el óptimo local.\n",
        " \n",
        "3) ¿Ha encontrado la misma solución en distintas ejecuciones?\n",
        "- Como mostramos en la celda anterior, la solución es distinta para cada ejecución, ya que genera los nodos de manera aleatoria.\n"
      ]
    },
    {
      "cell_type": "markdown",
      "metadata": {
        "id": "wxWyn_WeK8CZ"
      },
      "source": [
        "## Parte 2. Enfriamiento simulado ( simulated annealing) \n",
        "El algoritmo de enfriamiento simulado puede manejar las situaciones de óptimo local o mesetas típicas en algoritmos de escalada.\n",
        "<br>\n",
        "El enfriamiento simulado es bastante similar a la escalada pero en lugar de elegir el mejor movimiento en cada iteración, elige un movimiento aleatorio. Si este movimiento aleatorio nos acerca al óptimo global, será aceptado,\n",
        "pero si no lo hace, el algoritmo puede aceptar o rechazar el movimiento en función de una probabilidad dictada por la temperatura.  Cuando la `temperatura` es alta, es más probable que el algoritmo acepte un movimiento aleatorio incluso si es malo. A bajas temperaturas, solo se aceptan buenos movimientos, con alguna excepción ocasional.\n",
        "Esto permite la exploración del espacio de estado y **evita que el algoritmo se atasque en el óptimo local**.\n",
        "\n",
        "    Usaremos la implementación de AIMA del modulo search.py\n",
        "    \n",
        "    def simulated_annealing(problem, schedule=exp_schedule()):\n",
        "    \"\"\"[Figure 4.5] CAUTION: This differs from the pseudocode as it\n",
        "    returns a state instead of a Node.\"\"\"\n",
        "    current = Node(problem.initial)\n",
        "    for t in range(sys.maxsize):\n",
        "        T = schedule(t)\n",
        "        if T == 0:\n",
        "            return current.state\n",
        "        neighbors = current.expand(problem)\n",
        "        if not neighbors:\n",
        "            return current.state\n",
        "        next_choice = random.choice(neighbors)\n",
        "        delta_e = problem.value(next_choice.state) - problem.value(current.state)\n",
        "        if delta_e > 0 or probability(math.exp(delta_e / T)):\n",
        "            current = next_choice"
      ]
    },
    {
      "cell_type": "markdown",
      "metadata": {
        "id": "tOYEA-CdK8CZ"
      },
      "source": [
        "Como hemos visto en clase hay varios métodos de enfriamiento (scheduling routine) \n",
        "Se puede variar el método de enfriamiento. En la implementación actual estamos usando el método de enfriamiento exponencial (que se pasa como parámetro). \n",
        "\n",
        "    def exp_schedule(k=20, lam=0.005, limit=100):\n",
        "        \"\"\"One possible schedule function for simulated annealing\"\"\"\n",
        "        return lambda t: (k * math.exp(-lam * t) if t < limit else 0)"
      ]
    },
    {
      "cell_type": "markdown",
      "metadata": {
        "id": "NPrkaMpbKPyR"
      },
      "source": [
        "A la solución se le da una probalidad de empeorar. <br>\n",
        "Esta probabilidad se mide con la temperatura, al principio del proceso la temperatura es alta. Ésto permite un alto empeore del óptimo local.<br>\n",
        "Según avanza el algoritmo en la búsqueda del óptimo global, la temperatura,junto al empeore del óptimo local, se reduce."
      ]
    },
    {
      "cell_type": "markdown",
      "metadata": {
        "id": "Q1zwd7Z7K8Ca"
      },
      "source": [
        "Como ejemplo, vamos a definir un problema sencillo de encontrar el valor más alto en una rejilla. Este problema está definido en el módulo search.py como PeakFindingProblem. Lo reproducimos aquí y creamos una rejilla simple."
      ]
    },
    {
      "cell_type": "code",
      "metadata": {
        "id": "7FesU-C2K8Ca"
      },
      "source": [
        "initial = (0, 0)\n",
        "grid = [[3, 7, 2, 8], [5, 2, 9, 1], [5, 3, 3, 1]]"
      ],
      "execution_count": null,
      "outputs": []
    },
    {
      "cell_type": "code",
      "metadata": {
        "id": "AdfyzHasK8Cb"
      },
      "source": [
        "# Pre-defined actions for PeakFindingProblem\n",
        "directions4 = { 'W':(-1, 0), 'N':(0, 1), 'E':(1, 0), 'S':(0, -1) }\n",
        "directions8 = dict(directions4) \n",
        "directions8.update({'NW':(-1, 1), 'NE':(1, 1), 'SE':(1, -1), 'SW':(-1, -1) })\n",
        "\n",
        "class PeakFindingProblem(Problem):\n",
        "    \"\"\"Problem of finding the highest peak in a limited grid\"\"\"\n",
        "\n",
        "    def __init__(self, initial, grid, defined_actions=directions4):\n",
        "        \"\"\"The grid is a 2 dimensional array/list whose state is specified by tuple of indices\"\"\"\n",
        "        Problem.__init__(self, initial)\n",
        "        self.grid = grid\n",
        "        self.defined_actions = defined_actions\n",
        "        self.n = len(grid)\n",
        "        assert self.n > 0\n",
        "        self.m = len(grid[0])\n",
        "        assert self.m > 0\n",
        "\n",
        "    def actions(self, state):\n",
        "        \"\"\"Returns the list of actions which are allowed to be taken from the given state\"\"\"\n",
        "        allowed_actions = []\n",
        "        for action in self.defined_actions:\n",
        "            next_state = vector_add(state, self.defined_actions[action])\n",
        "            if next_state[0] >= 0 and next_state[1] >= 0 and next_state[0] <= self.n - 1 and next_state[1] <= self.m - 1:\n",
        "                allowed_actions.append(action)\n",
        "\n",
        "        return allowed_actions\n",
        "\n",
        "    def result(self, state, action):\n",
        "        \"\"\"Moves in the direction specified by action\"\"\"\n",
        "        return vector_add(state, self.defined_actions[action])\n",
        "\n",
        "    def value(self, state):\n",
        "        \"\"\"Value of a state is the value it is the index to\"\"\"\n",
        "        x, y = state\n",
        "        assert 0 <= x < self.n\n",
        "        assert 0 <= y < self.m\n",
        "        return self.grid[x][y]\n"
      ],
      "execution_count": null,
      "outputs": []
    },
    {
      "cell_type": "code",
      "metadata": {
        "id": "lc58WOHtK8Cc"
      },
      "source": [
        "problem = PeakFindingProblem(initial, grid, directions4)"
      ],
      "execution_count": null,
      "outputs": []
    },
    {
      "cell_type": "code",
      "metadata": {
        "id": "6C1t0oo0K8Cc",
        "colab": {
          "base_uri": "https://localhost:8080/"
        },
        "outputId": "13b78592-501b-40f2-c82a-1685f8771433"
      },
      "source": [
        "# Lo resolvemos con enfriamiento simulado\n",
        "\n",
        "solutions = {problem.value(simulated_annealing(problem)) for i in range(100)}\n",
        "max(solutions)"
      ],
      "execution_count": null,
      "outputs": [
        {
          "output_type": "execute_result",
          "data": {
            "text/plain": [
              "11.2"
            ]
          },
          "metadata": {},
          "execution_count": 31
        }
      ]
    },
    {
      "cell_type": "code",
      "metadata": {
        "id": "C87aQYGXK8Cd"
      },
      "source": [
        "def hill_climbing(problem):\n",
        "    \"\"\"From the initial node, keep choosing the neighbor with highest value,\n",
        "    stopping when no neighbor is better. [Figure 4.2]\"\"\"\n",
        "    current = Node(problem.initial)\n",
        "    while True:\n",
        "        neighbors = current.expand(problem)\n",
        "        if not neighbors:\n",
        "            break\n",
        "        neighbor = argmax_random_tie(neighbors,\n",
        "                                     key=lambda node: problem.value(node.state))\n",
        "        if problem.value(neighbor.state) <= problem.value(current.state):\n",
        "            break\n",
        "        current = neighbor\n",
        "    return current.state"
      ],
      "execution_count": null,
      "outputs": []
    },
    {
      "cell_type": "code",
      "metadata": {
        "id": "1M7X4FLzK8Cd",
        "colab": {
          "base_uri": "https://localhost:8080/"
        },
        "outputId": "78bd421b-c3f0-4723-850b-37928f351d82"
      },
      "source": [
        "solution = problem.value(hill_climbing(problem))\n",
        "solution"
      ],
      "execution_count": null,
      "outputs": [
        {
          "output_type": "execute_result",
          "data": {
            "text/plain": [
              "0.0"
            ]
          },
          "metadata": {},
          "execution_count": 22
        }
      ]
    },
    {
      "cell_type": "markdown",
      "metadata": {
        "id": "DtWAg5pvK8Cd"
      },
      "source": [
        "### Ejercicio 2.  Resuelve el problema anterior de encontrar el punto máximo en una rejilla. Comenta y razona los resultados obtenidos en distintas rejjillas con los algoritmos de enfriamiento simulado y escalada por máxima pendiente. \n",
        " \n",
        " \n",
        "Ejemplo de rejilla para pruebas"
      ]
    },
    {
      "cell_type": "code",
      "metadata": {
        "id": "wZiU_z2fYLod"
      },
      "source": [
        "grid = [[0.00, 0.00, 0.00, 0.00, 0.00, 0.00, 0.00, 0.00, 0.00],\n",
        "        [0.00, 0.00, 0.00, 0.00, 0.00, 0.00, 0.00, 0.00, 0.00],\n",
        "        [0.00, 0.00, 0.00, 0.40, 0.40, 0.00, 0.00, 0.00, 0.00],\n",
        "        [0.00, 0.00, 0.00, 0.00, 0.00, 0.00, 0.00, 0.70, 1.40],\n",
        "        [2.20, 1.80, 0.70, 0.00, 0.00, 0.00, 0.00, 0.00, 0.00],\n",
        "        [2.20, 1.80, 4.70, 6.50, 4.30, 1.80, 0.70, 0.00, 0.00],\n",
        "        [0.00, 0.00, 0.00, 0.00, 0.00, 0.00, 11.2, 0.70, 1.40],\n",
        "        [2.20, 1.80, 0.70, 0.00, 0.00, 9.00, 0.00, 0.00, 0.00],\n",
        "        [2.20, 1.80, 4.70, 6.50, 4.30, 1.80, 0.70, 0.00, 0.00],\n",
        "        [0.00, 0.00, 0.00, 0.00, 0.00, 0.00, 0.00, 0.70, 1.40],\n",
        "        [2.20, 1.80, 0.70, 0.00, 0.00, 0.00, 0.00, 0.00, 0.00],\n",
        "        [2.20, 1.80, 4.70, 8.50, 4.30, 1.80, 0.70, 0.00, 0.00]]\n",
        "initial = (6,6)"
      ],
      "execution_count": null,
      "outputs": []
    },
    {
      "cell_type": "markdown",
      "metadata": {
        "id": "-lDKU3aAK8Ce"
      },
      "source": [
        "## Parte 3. Algoritmos genéticos\n"
      ]
    },
    {
      "cell_type": "markdown",
      "metadata": {
        "id": "yXO6mCvEK8Ce"
      },
      "source": [
        "Se define una clase ProblemaGenetico que incluye los elementos necesarios para la representación de un problema de optimización que se va a resolver con un algoritmo genético. Los elementos son los que hemos visto en clase:\n",
        "\n",
        " - genes: lista de genes usados en el genotipo de los estados.\n",
        " - longitud_individuos: longitud de los cromosomas\n",
        " - decodifica: función de obtiene el fenotipo a partir del genotipo.\n",
        " - fitness: función de valoración.\n",
        " - muta: función de mutación de un cromosoma \n",
        " - cruza: función de cruce de un par de cromosomas"
      ]
    },
    {
      "cell_type": "code",
      "metadata": {
        "id": "i05SRHNCK8Ce"
      },
      "source": [
        "import random"
      ],
      "execution_count": null,
      "outputs": []
    },
    {
      "cell_type": "code",
      "metadata": {
        "id": "ZLQMw8MFK8Ce"
      },
      "source": [
        "class ProblemaGenetico(object):\n",
        "        def __init__(self, genes,fun_dec,fun_muta , fun_cruza, fun_fitness,longitud_individuos):\n",
        "            self.genes = genes\n",
        "            self.fun_dec = fun_dec\n",
        "            self.fun_cruza = fun_cruza\n",
        "            self.fun_muta = fun_muta\n",
        "            self.fun_fitness = fun_fitness\n",
        "            self.longitud_individuos = longitud_individuos\n",
        "            \"\"\"Constructor de la clase\"\"\"\n",
        "                \n",
        "        def decodifica(self, genotipo):\n",
        "            \"\"\"Devuelve el fenotipo a partir del genotipo\"\"\"\n",
        "            fenotipo = self.fun_dec(genotipo)\n",
        "            return fenotipo\n",
        "        def muta(self, cromosoma,prob):\n",
        "            \"\"\"Devuelve el cromosoma mutado\"\"\"   \n",
        "            mutante = self.fun_muta(cromosoma,prob)\n",
        "            return mutante\n",
        "        def cruza(self, cromosoma1, cromosoma2):         \n",
        "            \"\"\"Devuelve el cruce de un par de cromosomas\"\"\"\n",
        "            cruce = self.fun_cruza(cromosoma1,cromosoma2)\n",
        "            return cruce \n",
        "        def fitness(self, cromosoma):    \n",
        "            \"\"\"Función de valoración\"\"\"\n",
        "            valoracion = self.fun_fitness(cromosoma)\n",
        "            return valoracion"
      ],
      "execution_count": null,
      "outputs": []
    },
    {
      "cell_type": "markdown",
      "metadata": {
        "id": "b0V5u7tMK8Cf"
      },
      "source": [
        "En primer lugar vamos a definir una instancia de la clase anterior correspondiente al problema de optimizar (maximizar o minimizar) la función cuadrado x^2 en el conjunto de los números naturales menores que 2^{10}.\n",
        "Se usa este ejemplo (del que sabemos la solución) para ver todos los elementos y poder observar el comportamiento del algoritmo genético. "
      ]
    },
    {
      "cell_type": "code",
      "metadata": {
        "id": "qma77IZBK8Cf"
      },
      "source": [
        "# Será necesaria la siguiente función que interpreta una lista de 0's y 1's como un número natural:  \n",
        "# La siguiente función que interpreta una lista de 0's y 1's como\n",
        "# un número natural:  \n",
        "\n",
        "def binario_a_decimal(x):\n",
        "    x=x[::-1]\n",
        "    return sum(b*(2**i) for (i,b) in enumerate(x)) "
      ],
      "execution_count": null,
      "outputs": []
    },
    {
      "cell_type": "code",
      "metadata": {
        "id": "yVXIXRyzK8Cg"
      },
      "source": [
        "binario_a_decimal((1,1,1,0))"
      ],
      "execution_count": null,
      "outputs": []
    },
    {
      "cell_type": "code",
      "metadata": {
        "id": "-wKB1I3-K8Cg"
      },
      "source": [
        "# En primer luegar usaremos la clase anterior para representar el problema de optimizar (maximizar o minimizar)\n",
        "# la función cuadrado en el conjunto de los números naturales menores que\n",
        "# 2^{10}.\n",
        "\n",
        "# Tenemos que definir funciones de cruce, mutación y fitness para este problema.\n",
        "\n",
        "def fun_cruzar(cromosoma1, cromosoma2):\n",
        "    \"\"\"Cruza los cromosomas por la mitad\"\"\"\n",
        "    l1 = len(cromosoma1)\n",
        "    l2 = len(cromosoma2)\n",
        "    cruce1 = cromosoma1[0:l1//2]+cromosoma2[l1//2:l2]\n",
        "    cruce2 = cromosoma2[0:l2//2]+cromosoma1[l2//2:l1]\n",
        "    return [cruce1,cruce2]\n",
        "\n",
        "def fun_mutar(cromosoma,prob):\n",
        "    \"\"\"Elige un elemento al azar del cromosoma y lo modifica con una probabilidad igual a prob\"\"\"\n",
        "    l = len(cromosoma)\n",
        "    p = random.randint(0,l-1)\n",
        "    if prob > random.uniform(0,1):\n",
        "        cromosoma[p] =  (cromosoma[p]+1)%2\n",
        "    return cromosoma\n",
        "\n",
        "def fun_fitness_cuad(cromosoma):\n",
        "    \"\"\"Función de valoración que eleva al cuadrado el número recibido en binario\"\"\"\n",
        "    n = binario_a_decimal(cromosoma)**2\n",
        "    return n\n",
        "\n",
        "cuadrados = ProblemaGenetico([0,1],binario_a_decimal,fun_mutar, fun_cruzar, fun_fitness_cuad,10)"
      ],
      "execution_count": null,
      "outputs": []
    },
    {
      "cell_type": "markdown",
      "metadata": {
        "id": "nQuXs4s3K8Ch"
      },
      "source": [
        "Una vez definida la instancia cuadrados que representa el problema genético, probar alguna de las funciones definidas en la clase anterior, para esta instancia concreta. Por ejemplo:"
      ]
    },
    {
      "cell_type": "code",
      "metadata": {
        "id": "WhHHly9-K8Ch"
      },
      "source": [
        "cuadrados.decodifica([1,0,0,0,1,1,0,0,1,0,1])\n",
        "# Salida esperada: 1125"
      ],
      "execution_count": null,
      "outputs": []
    },
    {
      "cell_type": "code",
      "metadata": {
        "id": "RcpLutdXK8Ch"
      },
      "source": [
        "cuadrados.fitness([1,0,0,0,1,1,0,0,1,0,1])\n",
        "# Salida esperada: 1265625"
      ],
      "execution_count": null,
      "outputs": []
    },
    {
      "cell_type": "code",
      "metadata": {
        "id": "nIJho0hhK8Ci"
      },
      "source": [
        "cuadrados.muta([1,0,0,0,1,1,0,0,1,0,1],0.1)\n",
        "# Posible salida: [1, 0, 0, 0, 1, 1, 0, 0, 1, 0, 1]"
      ],
      "execution_count": null,
      "outputs": []
    },
    {
      "cell_type": "code",
      "metadata": {
        "id": "R-pwYUVRK8Ci"
      },
      "source": [
        "cuadrados.muta([1,0,0,0,1,1,0,0,1,0,1],0.1)\n",
        "# Posible salida: [0, 0, 0, 0, 1, 1, 0, 0, 1, 0, 1]"
      ],
      "execution_count": null,
      "outputs": []
    },
    {
      "cell_type": "code",
      "metadata": {
        "id": "-knxmOcQK8Ci"
      },
      "source": [
        "cuadrados.cruza([1,0,0,0,1,1,0,0,1,0,1],[0,1,1,0,1,0,0,1,1,1])\n",
        "# Posible salida: [[1, 0, 0, 0, 1, 0, 0, 1, 1, 1], [0, 1, 1, 0, 1, 1, 0, 0, 1, 0, 1]]"
      ],
      "execution_count": null,
      "outputs": []
    },
    {
      "cell_type": "markdown",
      "metadata": {
        "id": "YQNqMgCOK8Ci"
      },
      "source": [
        "### Ejercicio 3\n",
        "\n",
        "   - Definir una función poblacion_inicial(problema_genetico,tamaño), para definir una población inicial de un tamaño dado, para una instancia dada de la clase anterior ProblemaGenetico\n",
        "\n",
        "sugerencia: usar random.choice\n",
        "\n",
        "   - Definir una función de cruce que recibe una instancia de Problema_Genetico y una población de padres (supondremos que hay un número par de padres), obtiene la población resultante de cruzarlos de dos en dos (en el orden en que aparecen)\n",
        "\n",
        "cruza_padres(problema_genetico,padres)\n",
        "\n",
        "   - Definir la función de mutación que recibe una instancia de Problema_Genetico, una población y una probabilidad de mutación, obtiene la población resultante de aplicar operaciones de mutación a cada individuo llamando a la función muta definida para el problema genético.\n",
        "muta_individuos(problema_genetico, poblacion, prob)"
      ]
    },
    {
      "cell_type": "code",
      "metadata": {
        "id": "jCvyWeMFK8Cj"
      },
      "source": [
        "def poblacion_inicial(problema_genetico, size):\n",
        "    ...           \n",
        "    return l"
      ],
      "execution_count": null,
      "outputs": []
    },
    {
      "cell_type": "code",
      "metadata": {
        "id": "2PobWr_KK8Cj"
      },
      "source": [
        "poblacion_inicial(cuadrados,10)"
      ],
      "execution_count": null,
      "outputs": []
    },
    {
      "cell_type": "code",
      "metadata": {
        "id": "Jb2PGeinK8Cj"
      },
      "source": [
        "def cruza_padres(problema_genetico,padres):\n",
        "    l = []\n",
        "    ....\n",
        "    return l"
      ],
      "execution_count": null,
      "outputs": []
    },
    {
      "cell_type": "code",
      "metadata": {
        "id": "KPELpcg3K8Ck"
      },
      "source": [
        "p1 = [[1, 1, 0, 1, 0, 1, 0, 0, 0, 1],\n",
        "      [0, 1, 0, 1, 0, 0, 1, 0, 1, 1],\n",
        "      [0, 0, 1, 0, 0, 0, 1, 1, 1, 0],\n",
        "      [0, 0, 1, 1, 1, 1, 1, 1, 1, 0],\n",
        "      [0, 1, 1, 0, 0, 0, 0, 0, 0, 0],\n",
        "      [1, 0, 1, 1, 1, 0, 1, 1, 0, 1]]\n",
        "\n",
        "cruza_padres(cuadrados,p1)\n",
        "# Posible salida\n",
        "# [[1, 1, 0, 1, 0, 0, 1, 0, 1, 1],\n",
        "#  [0, 1, 0, 1, 0, 1, 0, 0, 0, 1],\n",
        "#  [0, 0, 1, 1, 1, 1, 1, 1, 1, 0],\n",
        "#  [0, 0, 1, 0, 0, 0, 1, 1, 1, 0],\n",
        "#  [0, 1, 1, 1, 1, 0, 1, 1, 0, 1],\n",
        "#  [1, 0, 1, 0, 0, 0, 0, 0, 0, 0]]"
      ],
      "execution_count": null,
      "outputs": []
    },
    {
      "cell_type": "code",
      "metadata": {
        "id": "s_wBhFQfK8Ck"
      },
      "source": [
        "def muta_individuos(problema_genetico, poblacion, prob):\n",
        "    # hay que llamar a  problema_genetico.muta(x,prob) para todos los individuos de la poblacion."
      ],
      "execution_count": null,
      "outputs": []
    },
    {
      "cell_type": "code",
      "metadata": {
        "scrolled": true,
        "id": "dHT8VdQfK8Cl"
      },
      "source": [
        "muta_individuos(cuadrados,p1,0.5)\n",
        "# Posible salida:\n",
        "#  [[1, 1, 0, 1, 0, 1, 0, 0, 0, 1],\n",
        "#   [0, 1, 0, 1, 0, 0, 1, 0, 0, 1],\n",
        "#   [0, 0, 1, 0, 0, 0, 1, 0, 1, 0],\n",
        "#   [0, 0, 1, 1, 1, 1, 1, 1, 1, 0],\n",
        "#   [0, 1, 0, 0, 0, 0, 0, 0, 0, 0],\n",
        "#   [1, 0, 1, 1, 1, 0, 1, 1, 0, 1]]"
      ],
      "execution_count": null,
      "outputs": []
    },
    {
      "cell_type": "code",
      "metadata": {
        "id": "i8bdSL-0K8Cl"
      },
      "source": [
        "p1 = [[1, 1, 0, 1, 0, 1, 0, 0, 0, 1],\n",
        "      [0, 1, 0, 1, 0, 0, 1, 0, 1, 1],\n",
        "      [0, 0, 1, 0, 0, 0, 1, 1, 1, 0],\n",
        "      [0, 0, 1, 1, 1, 1, 1, 1, 1, 0],\n",
        "      [0, 1, 1, 0, 0, 0, 0, 0, 0, 0],\n",
        "      [1, 0, 1, 1, 1, 0, 1, 1, 0, 1]]"
      ],
      "execution_count": null,
      "outputs": []
    },
    {
      "cell_type": "code",
      "metadata": {
        "id": "JFV_1K5pK8Cm"
      },
      "source": [
        "muta_individuos(cuadrados,p1,0.5)"
      ],
      "execution_count": null,
      "outputs": []
    },
    {
      "cell_type": "markdown",
      "metadata": {
        "id": "9pS6jJb-K8Cm"
      },
      "source": [
        "Vamos a definir una función de selección mediante torneo de n individuos de una población.  \n",
        "La función recibe como entrada:\n",
        " - una instancia de la clase ProblemaGenetico\n",
        " - una población\n",
        " - el número n de individuos que vamos a seleccionar\n",
        " - el número k de participantes en el torneo\n",
        " - un valor opt que puede ser o la función max o la función min (dependiendo de si el problema es de maximización o de minimización, resp.).\n",
        "\n",
        "seleccion\\_por\\_torneo(problema_genetico,poblacion,n,k,opt) \n",
        "\n",
        "Usar random.sample para seleccionar k elementos de una secuencia. \n",
        "Por ejemplo, random.sample(population=[2,5,7,8,9], k=3) devuelve [7,5,8]. "
      ]
    },
    {
      "cell_type": "code",
      "metadata": {
        "id": "9O38n3FYK8Cn"
      },
      "source": [
        "def seleccion_por_torneo(problema_genetico, poblacion, n, k, opt):\n",
        "    \"\"\"Selección por torneo de n individuos de una población. Siendo k el nº de participantes\n",
        "        y opt la función max o min.\"\"\"\n",
        "    seleccionados = []\n",
        "    for i in range(n):\n",
        "        participantes = random.sample(poblacion,k)\n",
        "        seleccionado = opt(participantes, key=problema_genetico.fitness)\n",
        "        opt(poblacion, key=problema_genetico.fitness)\n",
        "        seleccionados.append(seleccionado)\n",
        "        # poblacion.remove(seleccionado)\n",
        "    return seleccionados  "
      ],
      "execution_count": null,
      "outputs": []
    },
    {
      "cell_type": "code",
      "metadata": {
        "id": "I6TdQdNjK8Cn"
      },
      "source": [
        "#Ejemplo\n",
        "seleccion_por_torneo(cuadrados, poblacion_inicial(cuadrados,8),3,6,max)\n",
        "# Posible salida: [[1, 1, 1, 1, 1, 0, 0, 0, 1, 1], [1, 0, 0, 1, 1, 1, 0, 1, 0, 1], [1, 1, 1, 1, 0, 1, 1, 1, 0, 1]]\n"
      ],
      "execution_count": null,
      "outputs": []
    },
    {
      "cell_type": "code",
      "metadata": {
        "id": "msfW1xlbK8Cn"
      },
      "source": [
        "seleccion_por_torneo(cuadrados, poblacion_inicial(cuadrados,8),3,6,min)\n",
        "# [[0, 0, 1, 1, 0, 1, 1, 0, 0, 0], [1, 0, 1, 0, 1, 1, 1, 0, 0, 0], [1, 1, 0, 1, 0, 0, 1, 0, 1, 0]]"
      ],
      "execution_count": null,
      "outputs": []
    },
    {
      "cell_type": "code",
      "metadata": {
        "id": "mO3eprNQK8Co"
      },
      "source": [
        "# La siguiente función implementa una posibilidad para el algoritmo genético completo: \n",
        "# inicializa t = 0 \n",
        "# Generar y evaluar la Población P(t)\n",
        "# Mientras no hemos llegado al número de generaciones fijado:  t < nGen\n",
        "#    P1 = Selección por torneo de (1-size)·p individuos de P(t)\n",
        "#    P2 = Selección por torneo de (size·p) individuos de P(t)\n",
        "#    Aplicar cruce en la población P2\n",
        "#    P4 = Union de P1 y P3\n",
        "#    P(t+1) := Aplicar mutación P4 \n",
        "#    Evalua la población P(t+1) \n",
        "#    t:= t+1\n",
        "        \n",
        "# Sus argumentos son:\n",
        "# problema_genetico: una instancia de la clase ProblemaGenetico con la representación adecuada del problema de optimización \n",
        "# que se quiere resolver.\n",
        "# k: número de participantes en los torneos de selección.\n",
        "# opt: max ó min, dependiendo si el problema es de maximización o de minimización. \n",
        "# nGen: número de generaciones (que se usa como condición de terminación)\n",
        "# size: número de individuos en cada generación\n",
        "# prop_cruce: proporción del total de la población que serán padres. \n",
        "# prob_mutación: probabilidad de realizar una mutación de un gen.\n",
        "\n",
        "def algoritmo_genetico(problema_genetico,k,opt,ngen,size,prop_cruces,prob_mutar):\n",
        "    poblacion= poblacion_inicial(problema_genetico,size)\n",
        "    n_padres=round(size*prop_cruces)\n",
        "    n_padres= int (n_padres if n_padres%2==0 else n_padres-1)\n",
        "    n_directos = size-n_padres\n",
        "    for _ in range(ngen):\n",
        "        poblacion= nueva_generacion(problema_genetico,k,opt,poblacion,n_padres, n_directos,prob_mutar)\n",
        "\n",
        "    mejor_cr= opt(poblacion, key=problema_genetico.fitness)\n",
        "    mejor=problema_genetico.decodifica(mejor_cr)\n",
        "    return (mejor,problema_genetico.fitness(mejor_cr)) \n"
      ],
      "execution_count": null,
      "outputs": []
    },
    {
      "cell_type": "markdown",
      "metadata": {
        "id": "0f37G1s8K8Co"
      },
      "source": [
        "Necesitarás definir la función auxiliar nueva_generacion(problema_genetico,poblacion,n_padres,n_directos,prob_mutar) que dada una población calcula la siguiente generación."
      ]
    },
    {
      "cell_type": "code",
      "metadata": {
        "id": "OEGYVyVYK8Cp"
      },
      "source": [
        "#Definir la función nueva_generacion\n",
        "def nueva_generacion(problema_genetico, k,opt, poblacion, n_padres, n_directos, prob_mutar):\n",
        "    padres2 = seleccion_por_torneo(problema_genetico, poblacion, n_directos, k,opt) \n",
        "    padres1 = seleccion_por_torneo(problema_genetico, poblacion, n_padres , k, opt)\n",
        "    cruces =  cruza_padres(problema_genetico,padres1)\n",
        "    generacion = padres2+cruces\n",
        "    resultado_mutaciones = muta_individuos(problema_genetico, generacion, prob_mutar)\n",
        "    return resultado_mutaciones"
      ],
      "execution_count": null,
      "outputs": []
    },
    {
      "cell_type": "markdown",
      "metadata": {
        "id": "oZL66c0nK8Cp"
      },
      "source": [
        "### Ejercicio 4.  Ejecutar el algoritmo genético anterior, para resolver el problema anterior (tanto en minimización como en maximización).  \n",
        "Hacer una valoración de resultados y comentarios sobre el comportamiento del algoritmmo. \n",
        "En la resolución del problema hay que tener en cuenta que el algoritmo genético devuelve un par con el mejor fenotipo encontrado y su valoración."
      ]
    },
    {
      "cell_type": "code",
      "metadata": {
        "id": "gufNeMW_K8Cp"
      },
      "source": [
        "algoritmo_genetico(cuadrados,3,min,20,10,0.7,0.1)\n",
        "# Salida esperada: (0, 0)"
      ],
      "execution_count": null,
      "outputs": []
    },
    {
      "cell_type": "code",
      "metadata": {
        "id": "ouR9AAwGK8Cq"
      },
      "source": [
        "algoritmo_genetico(cuadrados,3,max,20,10,0.7,0.1)\n",
        "# Salida esperada: (1023, 1046529)"
      ],
      "execution_count": null,
      "outputs": []
    },
    {
      "cell_type": "markdown",
      "metadata": {
        "id": "RmX446g4K8Cq"
      },
      "source": [
        "##  El problema de la mochila "
      ]
    },
    {
      "cell_type": "markdown",
      "metadata": {
        "id": "vZjCTwCmK8Cq"
      },
      "source": [
        "Se plantea el típico problema de la mochila en el que dados n objetos de pesos conocidos pi y valor vi (i=1,...,n) hay que elegir cuáles se meten en una mochila que soporta un peso P máximo. La selección debe hacerse de forma que se máximice el valor de los objetos introducidos sin superar el peso máximo."
      ]
    },
    {
      "cell_type": "markdown",
      "metadata": {
        "id": "sMjqPurQK8Cq"
      },
      "source": [
        "### Ejercicio 5\n",
        "\n",
        "Se pide definir la representación del problema de la mochila usando genes [0,1] y longitud de los individuos n.\n",
        "Los valores 1 ó 0 representan, respectivamente, si el objeto se introduce o no en la mochila Tomados de izquerda a derecha, a partir del primero que no cabe, se consideran  todos fuera de la mochila,independientemente del gen en su posición. De esta manera, todos los individuos representan candidatos válidos.\n",
        "\n",
        "El numero de objetos n determina la longitud de los individuos de la población.\n",
        "En primer lugar es necesario definir una función de decodificación de la mochila que recibe como entrada:\n",
        "* un cromosoma (en este caso, una lista de 0s y 1s, de longitud igual a n_objetos) \n",
        "* n: número total de objetos de la mochila\n",
        "* pesos: una lista con los pesos de los objetos\n",
        "* capacidad: peso máximo de la mochila.\n",
        "La función decodifica recibe (cromosoma, n, pesos, capacidad) y devuelve una lista de 0s y 1s que indique qué objetos están en la mochila y cuáles no (el objeto i está en la mochila si y sólo si en la posición i-ésima de la lista hay un 1). Esta lista se obtendrá a partir del cromosoma, pero teniendo en cuenta que a partir del primer objeto que no quepa, éste y los siguientes se consideran fuera de la mochila, independientemente del valor que haya en su correspondiente posición de cromosoma. "
      ]
    },
    {
      "cell_type": "code",
      "metadata": {
        "id": "v164wqHaK8Cr"
      },
      "source": [
        "def decodifica_mochila(cromosoma, n, pesos, capacidad):\n",
        "    peso_en_mochila = 0\n",
        "    l = []\n",
        "    for i in range(n):\n",
        "        if cromosoma[i] == 1 and peso_en_mochila + pesos[i] <= capacidad:\n",
        "            l.append(1)\n",
        "            peso_en_mochila += pesos[i]\n",
        "        elif cromosoma[i]== 0 or peso_en_mochila + pesos[i] > capacidad:\n",
        "            l.append(0)\n",
        "    return l "
      ],
      "execution_count": null,
      "outputs": []
    },
    {
      "cell_type": "code",
      "metadata": {
        "id": "8lDmiwx6K8Cr"
      },
      "source": [
        "decodifica_mochila([1,1,1,1,1], 5, [2,3,4,5,1], 5)"
      ],
      "execution_count": null,
      "outputs": []
    },
    {
      "cell_type": "markdown",
      "metadata": {
        "id": "-LEYCmZYK8Cs"
      },
      "source": [
        "Para definir la función de evaluación (fitness) necesitamos calcular el valor total de los objetos que están dentro de la mochila que representa el cromosoma según la codificación utilizada en la función anterior. \n",
        "\n",
        "Se pide la función fitness (cromosoma, n_objetos, pesos, capacidad, valores) donde los parámetros son los mismos que en la función anterior, y valores es la lista de los valores de cada objeto\n",
        "\n",
        "fitness(cromosoma, n_objetos, pesos, capacidad, valores)\n",
        "\n",
        "Ejemplo de uso:\n",
        "   fitness([1,1,1,1], 4, [2,3,4,5], 4, [7,1,4,5])\n",
        "   7"
      ]
    },
    {
      "cell_type": "code",
      "metadata": {
        "id": "12YBTYZuK8Cs"
      },
      "source": [
        "def fitness_mochila(cromosoma, n_objetos, pesos, capacidad, valores):\n",
        "    .... \n",
        "    return valor"
      ],
      "execution_count": null,
      "outputs": []
    },
    {
      "cell_type": "code",
      "metadata": {
        "id": "NnyQSDl2K8Cs"
      },
      "source": [
        "fitness_mochila([1,1,1,1], 4, [2,3,4,5], 4, [7,1,4,5])"
      ],
      "execution_count": null,
      "outputs": []
    },
    {
      "cell_type": "markdown",
      "metadata": {
        "id": "eLcTxgFpK8Ct"
      },
      "source": [
        "Damos tres instancias concretas del problema de la mochila. Damos también sus soluciones optimas, para que se puedan comparar con los resultados obtenidos por el algoritmo genético:"
      ]
    },
    {
      "cell_type": "code",
      "metadata": {
        "id": "cti2c9y1K8Ct"
      },
      "source": [
        "# Problema de la mochila 1:\n",
        "# 10 objetos, peso máximo 165\n",
        "pesos1 = [23,31,29,44,53,38,63,85,89,82]\n",
        "valores1 = [92,57,49,68,60,43,67,84,87,72]\n",
        "\n",
        "# Solución óptima= [1,1,1,1,0,1,0,0,0,0], con valor 309"
      ],
      "execution_count": null,
      "outputs": []
    },
    {
      "cell_type": "code",
      "metadata": {
        "id": "JsHdAY-fK8Ct"
      },
      "source": [
        "# Problema de la mochila 2:\n",
        "# 15 objetos, peso máximo 750\n",
        "\n",
        "pesos2 = [70,73,77,80,82,87,90,94,98,106,110,113,115,118,120]\n",
        "valores2 = [135,139,149,150,156,163,173,184,192,201,210,214,221,229,240]\n",
        "\n",
        "# Solución óptima= [1,0,1,0,1,0,1,1,1,0,0,0,0,1,1] con valor 1458"
      ],
      "execution_count": null,
      "outputs": []
    },
    {
      "cell_type": "code",
      "metadata": {
        "id": "2jryCXUBK8Cu"
      },
      "source": [
        "# Problema de la mochila 3:\n",
        "# 24 objetos, peso máximo 6404180\n",
        "pesos3 = [382745,799601,909247,729069,467902, 44328,\n",
        "       34610,698150,823460,903959,853665,551830,610856,\n",
        "       670702,488960,951111,323046,446298,931161, 31385,496951,264724,224916,169684]\n",
        "valores3 = [825594,1677009,1676628,1523970, 943972,  97426,\n",
        "       69666,1296457,1679693,1902996,\n",
        "       1844992,1049289,1252836,1319836, 953277,2067538, 675367,\n",
        "       853655,1826027, 65731, 901489, 577243, 466257, 369261]\n",
        "\n",
        "# Solución óptima= [1,1,0,1,1,1,0,0,0,1,1,0,1,0,0,1,0,0,0,0,0,1,1,1] con valoración 13549094"
      ],
      "execution_count": null,
      "outputs": []
    },
    {
      "cell_type": "markdown",
      "metadata": {
        "id": "6DkeUgNQK8Cu"
      },
      "source": [
        "### Ejercicio 6\n",
        "\n",
        "Definir variables m1g, m2g y m3g, referenciando a instancias de Problema_Genetico que correspondan, respectivamente, a los problemas de la mochila anteriores. Resuelve los problemas y comentar los resultados obtenidos en cuanto a eficiencia y calidad de los resultados obtenidos."
      ]
    },
    {
      "cell_type": "markdown",
      "metadata": {
        "id": "7KWzQGpyK8Cu"
      },
      "source": [
        "Algunas de las salidas posibles variando los parámetros."
      ]
    },
    {
      "cell_type": "code",
      "metadata": {
        "id": "7_otRzcyK8Cu"
      },
      "source": [
        "# >>> algoritmo_genetico_t(m1g,3,max,100,50,0.8,0.05)\n",
        "# ([1, 1, 1, 1, 0, 1, 0, 0, 0, 0], 309)\n",
        "\n",
        "# >>> algoritmo_genetico_t(m2g,3,max,100,50,0.8,0.05)\n",
        "# ([1, 1, 1, 0, 0, 0, 0, 1, 1, 0, 1, 1, 1, 0, 0], 1444)\n",
        "# >>> algoritmo_genetico_t(m2g,3,max,200,100,0.8,0.05)\n",
        "# ([0, 0, 1, 0, 1, 1, 1, 1, 1, 1, 0, 0, 1, 0, 0], 1439)\n",
        "# >>> algoritmo_genetico_t(m2g,3,max,200,100,0.8,0.05)\n",
        "# ([1, 0, 1, 0, 1, 0, 1, 1, 1, 0, 0, 0, 0, 1, 1], 1458)\n",
        "\n",
        "# >>> algoritmo_genetico_t(m3g,5,max,400,200,0.75,0.1)\n",
        "# ([1, 1, 0, 1, 0, 1, 1, 0, 1, 1, 1, 0, 1, 0, 0, 1, 0, 0, 0, 0, 0, 1, 0, 0], 13518963)\n",
        "# >>> algoritmo_genetico_t(m3g,4,max,600,200,0.75,0.1)\n",
        "# ([1, 1, 0, 1, 1, 1, 1, 0, 0, 1, 1, 0, 1, 0, 0, 1, 1, 0, 0, 1, 0, 1, 0, 0], 13524340)\n",
        "# >>> algoritmo_genetico_t(m3g,4,max,1000,200,0.75,0.1)\n",
        "# ([1, 1, 0, 1, 0, 0, 0, 0, 1, 1, 1, 0, 1, 0, 0, 1, 1, 0, 0, 0, 0, 0, 0, 0], 13449995)\n",
        "# >>> algoritmo_genetico_t(m3g,3,max,1000,100,0.75,0.1)\n",
        "# ([1, 1, 0, 0, 0, 1, 1, 0, 1, 1, 1, 0, 1, 1, 0, 1, 1, 0, 0, 0, 0, 0, 0, 0], 13412953)\n",
        "# >>> algoritmo_genetico_t(m3g,3,max,2000,100,0.75,0.1)\n",
        "# ([0, 1, 0, 1, 0, 1, 0, 0, 1, 1, 1, 0, 1, 1, 0, 1, 0, 0, 0, 0, 0, 0, 0, 0], 13366296)\n",
        "# >>> algoritmo_genetico_t(m3g,6,max,2000,100,0.75,0.1)\n",
        "# ([1, 1, 0, 1, 1, 1, 0, 0, 0, 1, 1, 0, 1, 0, 0, 1, 0, 0, 0, 0, 0, 1, 1, 1], 13549094)"
      ],
      "execution_count": null,
      "outputs": []
    },
    {
      "cell_type": "code",
      "metadata": {
        "id": "YDjhNj1-K8Cv"
      },
      "source": [
        "\n",
        "def fitness_mochila_1(cromosoma):\n",
        "    v = fitness_mochila(cromosoma, 10, pesos1, 165, valores1)\n",
        "    return v\n",
        "def decodifica_mochila_1(cromosoma):\n",
        "    v = decodifica_mochila(cromosoma, 10, pesos1, 165)\n",
        "    return v\n",
        "m1g = ProblemaGenetico([0,1], decodifica_mochila_1, fun_mutar, fun_cruzar, fitness_mochila_1,10)\n",
        "\n",
        "def fitness_mochila_2(cromosoma):\n",
        "    v = fitness_mochila(cromosoma, 15, pesos2, 750, valores2)\n",
        "    return v\n",
        "def decodifica_mochila_2(cromosoma):\n",
        "    v = decodifica_mochila(cromosoma, 14, pesos2, 750)\n",
        "    return v\n",
        "m2g = ProblemaGenetico([0,1], decodifica_mochila_2, fun_mutar, fun_cruzar, fitness_mochila_2,15)\n",
        "\n",
        "def fitness_mochila_3(cromosoma):\n",
        "    v = fitness_mochila(cromosoma, 24, pesos3,6404180 , valores3)\n",
        "    return v\n",
        "def decodifica_mochila_3(cromosoma):\n",
        "    v = decodifica_mochila(cromosoma, 24, pesos3, 6404180)\n",
        "    return v\n",
        "m3g = ProblemaGenetico([0,1], decodifica_mochila_3, fun_mutar, fun_cruzar, fitness_mochila_3,24)\n"
      ],
      "execution_count": null,
      "outputs": []
    },
    {
      "cell_type": "code",
      "metadata": {
        "id": "DzmS7DRxK8Cv"
      },
      "source": [
        "algoritmo_genetico(m3g,5,max,400,200,0.75,0.1)"
      ],
      "execution_count": null,
      "outputs": []
    },
    {
      "cell_type": "markdown",
      "metadata": {
        "id": "SlioKySPK8Cw"
      },
      "source": [
        "### Ejercicio 7\n",
        "Resolver mediante una configuración de un algoritmo genético el problema del cuadrado mágico que consiste en colocar en un cuadrado n × n los números naturales de 1 a n^2, \n",
        "de tal manera que las filas, las columnas y las diagonales principales sumen los mismo. \n",
        "Ejemplo: una solucion para n= 3\n",
        "    \n",
        "    4 3 8\n",
        "    9 5 1\n",
        "    2 7 6\n",
        "    \n",
        "- Dimensionn del cuadrado: N\n",
        "- Suma común: SUMA=(N·(N^2 + 1))/2\n",
        "    \n",
        "    Comenta el resultado y el rendimiento del algoritmo para distintos parámetros.\n",
        "    \n",
        "\n",
        "    \n",
        "    "
      ]
    },
    {
      "cell_type": "code",
      "metadata": {
        "id": "z7r5hj-8K8Cw"
      },
      "source": [
        ""
      ],
      "execution_count": null,
      "outputs": []
    },
    {
      "cell_type": "markdown",
      "metadata": {
        "id": "ACGa7bqAK8Cw"
      },
      "source": [
        "### Ejercicio 8. Formación de equipos de trabajo para los TFG en la Facultad de Informática.\n",
        "Se os da el enunciado de forma separada. "
      ]
    },
    {
      "cell_type": "code",
      "metadata": {
        "id": "HxUsI4dMK8Cx"
      },
      "source": [
        ""
      ],
      "execution_count": null,
      "outputs": []
    }
  ]
}