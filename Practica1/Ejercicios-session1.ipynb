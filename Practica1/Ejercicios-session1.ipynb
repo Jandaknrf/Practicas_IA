{
 "cells": [
  {
   "cell_type": "markdown",
   "metadata": {},
   "source": [
    "## Resuelve los siguientes ejercicios en este archivo y entregalo en el campus al final de la clase."
   ]
  },
  {
   "cell_type": "markdown",
   "metadata": {},
   "source": [
    "GRUPO XX\n",
    "-- Álvaro Montes y Sofía Capmany"
   ]
  },
  {
   "cell_type": "code",
   "execution_count": 18,
   "metadata": {},
   "outputs": [],
   "source": [
    "# Librerías\n",
    "\n",
    "import math as math"
   ]
  },
  {
   "cell_type": "markdown",
   "metadata": {},
   "source": [
    "**_Ejercicio 1_**. Escribe un programa que calcule el volumen de un cono a partir del radio de la base y su altura. Usa la siguiente fórmula:\n",
    "volumen = pi * radio * radio * altura / 3\n",
    "Solicita los valores de radio y altura al usuario.  El valor aproximado de pi es 3.14159.\n",
    "\n"
   ]
  },
  {
   "cell_type": "code",
   "execution_count": 13,
   "metadata": {},
   "outputs": [
    {
     "name": "stdout",
     "output_type": "stream",
     "text": [
      "Introduzca el radio y la altura para calcular el volumen del cono.\n",
      "Se esperan datos tanto enteros como con decimales. \n",
      "\n",
      "Introduzca el valor del radio: 5\n",
      "Introduzca el valor de la altura: 10\n",
      "El volumen del cono para los datos introducidos es:  261.79938779914943\n"
     ]
    }
   ],
   "source": [
    "# Escribe aquí la solución del ejercicio 1.\n",
    "\n",
    "# 1 - Pedir input al usuario \n",
    "print('Introduzca el radio y la altura para calcular el volumen del cono.')\n",
    "print('Se esperan datos tanto enteros como con decimales. \\n')\n",
    "radio = float(input('Introduzca el valor del radio: '))\n",
    "altura = float(input('Introduzca el valor de la altura: '))\n",
    "\n",
    "# 2 - Cálculo fórmula\n",
    "volumen = math.pi * radio * radio * altura / 3\n",
    "\n",
    "# 3 - Mostrar rto\n",
    "print('El volumen del cono para los datos introducidos es: ', volumen)\n"
   ]
  },
  {
   "cell_type": "markdown",
   "metadata": {},
   "source": [
    "**_Ejercicio 2_**.  Escribe un programa que clasifique los elementos de una lista en positivos y negativos. Los elementos positivos deben añadirse a una lista y los negativos a otra. Si la lista original contiene ceros, se deben ignorar."
   ]
  },
  {
   "cell_type": "code",
   "execution_count": 15,
   "metadata": {},
   "outputs": [
    {
     "name": "stdout",
     "output_type": "stream",
     "text": [
      "Lista negativos:  [-9, -4, -7]\n",
      "Lista positivos:  [7, 6, 234]\n"
     ]
    }
   ],
   "source": [
    "# Escribe aquí la solución del ejercicio 2.\n",
    "#Ejemplo: \n",
    "#lista_original = [7, 6, -9, 234, -4, 0, -7]\n",
    "#Positivos: [7, 6, 234]\n",
    "#Negativos: [-9, -4, -7]\n",
    "\n",
    "lista = [7, 6, -9, 234, -4, 0, -7]\n",
    "lista_neg = []\n",
    "lista_pos = []\n",
    "\n",
    "\n",
    "for elemento in lista: \n",
    "    if elemento < 0:\n",
    "        lista_neg.append(elemento)\n",
    "    elif elemento > 0:\n",
    "        lista_pos.append(elemento)\n",
    "    \n",
    "print('Lista negativos: ', lista_neg)\n",
    "print('Lista positivos: ', lista_pos)\n"
   ]
  },
  {
   "cell_type": "markdown",
   "metadata": {},
   "source": [
    "**_Ejercicio 3_**.  Escribir una función cuadrados(l) que recibiendo una secuencia l de números, devuelve la lista de los cuadrados de esos números, en el mismo orden. Por ejemplo:\n",
    "\tcuadrados([4,1,5.2,3,8])\n",
    "\t[16, 1, 27.040000000000003, 9, 64]\n",
    "\tHacer dos versiones: una usando un bucle explícito, y la otra mediante definición de listas por comprensión."
   ]
  },
  {
   "cell_type": "code",
   "execution_count": 20,
   "metadata": {},
   "outputs": [
    {
     "name": "stdout",
     "output_type": "stream",
     "text": [
      "Lista original: [4, 1, 5.2, 3, 8]\n",
      "Lista de cuadrados:  [16, 1, 27.040000000000003, 9, 64]\n"
     ]
    }
   ],
   "source": [
    "# Escribe aquí la solución del ejercicio 3.\n",
    "# Escribir una función cuadrados(l) que recibiendo una secuencia l de números,\n",
    "# devuelve la lista de los cuadrados de esos números, en el mismo orden.\n",
    "\n",
    "\n",
    "# Por ejemplo:\n",
    "# \n",
    "# >>> cuadrados([4,1,5.2,3,8])\n",
    "# [16, 1, 27.040000000000003, 9, 64]\n",
    "\n",
    "# ---------------------------------------------------------------------------\n",
    "\n",
    "\n",
    "l = [4,1,5.2,3,8]\n",
    "squares = []\n",
    "\n",
    "for e in l:\n",
    "    squares.append(e**2)\n",
    "\n",
    "print('Lista original:', l)\n",
    "print('Lista de cuadrados: ', squares)    \n"
   ]
  },
  {
   "cell_type": "code",
   "execution_count": 21,
   "metadata": {},
   "outputs": [
    {
     "name": "stdout",
     "output_type": "stream",
     "text": [
      "Lista original: [4, 1, 5.2, 3, 8]\n",
      "Lista de cuadrados:  [16, 1, 27.040000000000003, 9, 64]\n"
     ]
    }
   ],
   "source": [
    "# Version 2\n",
    "# a = [2*x for x in range(1,10)]\n",
    "\n",
    "l = [4,1,5.2,3,8]\n",
    "squares = [e**2 for e in l]\n",
    "\n",
    "\n",
    "print('Lista original:', l)\n",
    "print('Lista de cuadrados: ', squares)\n"
   ]
  },
  {
   "cell_type": "markdown",
   "metadata": {},
   "source": [
    "# Ejecutar un script con extensión .py en el notebook:\n",
    "\n",
    "Tengo el siguiente archivo pacman.py\n",
    "En una celda IN: !python pacman.py\n",
    "\n",
    "\n",
    "-----> Importante el '!'\n"
   ]
  },
  {
   "cell_type": "code",
   "execution_count": null,
   "metadata": {},
   "outputs": [],
   "source": []
  }
 ],
 "metadata": {
  "kernelspec": {
   "display_name": "Python 3",
   "language": "python",
   "name": "python3"
  },
  "language_info": {
   "codemirror_mode": {
    "name": "ipython",
    "version": 3
   },
   "file_extension": ".py",
   "mimetype": "text/x-python",
   "name": "python",
   "nbconvert_exporter": "python",
   "pygments_lexer": "ipython3",
   "version": "3.8.3"
  }
 },
 "nbformat": 4,
 "nbformat_minor": 2
}
